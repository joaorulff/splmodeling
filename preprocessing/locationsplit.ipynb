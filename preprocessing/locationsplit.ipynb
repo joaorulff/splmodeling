{
 "cells": [
  {
   "cell_type": "markdown",
   "metadata": {
    "heading_collapsed": true
   },
   "source": [
    "## Importing Libs"
   ]
  },
  {
   "cell_type": "code",
   "execution_count": 1,
   "metadata": {
    "hidden": true
   },
   "outputs": [
    {
     "data": {
      "text/plain": [
       "RendererRegistry.enable('notebook')"
      ]
     },
     "execution_count": 1,
     "metadata": {},
     "output_type": "execute_result"
    }
   ],
   "source": [
    "import pandas as pd\n",
    "import numpy as np\n",
    "import geopandas as gpd\n",
    "\n",
    "\n",
    "import shapely\n",
    "from shapely.geometry import Polygon\n",
    "from shapely.geometry import Point\n",
    "import geog\n",
    "\n",
    "import folium\n",
    "import geopy.distance\n",
    "\n",
    "\n",
    "from descartes import PolygonPatch\n",
    "import altair as alt\n",
    "\n",
    "import folium\n",
    "\n",
    "# for the notebook only (not for JupyterLab) run this command once per session\n",
    "alt.renderers.enable('notebook')"
   ]
  },
  {
   "cell_type": "markdown",
   "metadata": {
    "heading_collapsed": true
   },
   "source": [
    "## Defining Consts"
   ]
  },
  {
   "cell_type": "code",
   "execution_count": 2,
   "metadata": {
    "hidden": true
   },
   "outputs": [],
   "source": [
    "### Consts\n",
    "datapath = '../rawdata/sensors/'\n",
    "sensors_file = datapath + 'nodes.txt'"
   ]
  },
  {
   "cell_type": "markdown",
   "metadata": {
    "heading_collapsed": true
   },
   "source": [
    "## Loading External Datasets"
   ]
  },
  {
   "cell_type": "code",
   "execution_count": 3,
   "metadata": {
    "hidden": true
   },
   "outputs": [],
   "source": [
    "## loading 311\n",
    "noiseComplaints = pd.read_pickle('../data/311/311.pkl')\n",
    "noiseComplaints = gpd.GeoDataFrame(noiseComplaints, crs={'init' : 'epsg:4326'}, geometry='geometry')\n",
    "\n",
    "## loading taxi\n",
    "taxi = pd.read_pickle('../data/taxi/taxi.pkl')\n",
    "\n",
    "## loading wind speed\n",
    "windSpeed = pd.read_pickle('../data/weather/wind.pkl')\n",
    "windSpeed = windSpeed.resample('H').agg({'Spd[Wind]': 'mean'})\n",
    "\n",
    "## loading precipitation\n",
    "precipitation = pd.read_pickle('../data/weather/precipitation.pkl')\n",
    "precipitation = precipitation.resample('H').agg({'Amt[PrecipHourly1]': 'mean'})"
   ]
  },
  {
   "cell_type": "markdown",
   "metadata": {
    "heading_collapsed": true
   },
   "source": [
    "## Loading Assets"
   ]
  },
  {
   "cell_type": "code",
   "execution_count": 4,
   "metadata": {
    "hidden": true
   },
   "outputs": [],
   "source": [
    "# loading taxi regions\n",
    "taxi_regions = gpd.read_file('zip://../assets/taxi_zones.zip')\n",
    "taxi_regions = taxi_regions.to_crs({'init':'epsg:3857'}) "
   ]
  },
  {
   "cell_type": "markdown",
   "metadata": {},
   "source": [
    "## Filtering Manhattan Locations"
   ]
  },
  {
   "cell_type": "code",
   "execution_count": 5,
   "metadata": {},
   "outputs": [],
   "source": [
    "manhattan_locations = taxi_regions[taxi_regions['borough'] == 'Manhattan']['LocationID'].values"
   ]
  },
  {
   "cell_type": "markdown",
   "metadata": {},
   "source": [
    "## Aggregating by Location With Sensors"
   ]
  },
  {
   "cell_type": "code",
   "execution_count": 15,
   "metadata": {},
   "outputs": [
    {
     "name": "stdout",
     "output_type": "stream",
     "text": [
      "4\n",
      "12\n",
      "13\n",
      "24\n",
      "41\n",
      "42\n",
      "43\n",
      "45\n",
      "48\n",
      "50\n",
      "68\n",
      "74\n",
      "75\n",
      "79\n",
      "87\n",
      "88\n",
      "90\n",
      "100\n",
      "103\n",
      "103\n",
      "103\n",
      "107\n",
      "113\n",
      "114\n",
      "116\n",
      "120\n",
      "125\n",
      "127\n",
      "128\n",
      "137\n",
      "140\n",
      "141\n",
      "142\n",
      "143\n",
      "144\n",
      "148\n",
      "151\n",
      "152\n",
      "153\n",
      "158\n",
      "161\n",
      "162\n",
      "163\n",
      "164\n",
      "166\n",
      "170\n",
      "186\n",
      "194\n",
      "202\n",
      "209\n",
      "211\n",
      "224\n",
      "229\n",
      "230\n",
      "231\n",
      "232\n",
      "233\n",
      "234\n",
      "236\n",
      "237\n",
      "238\n",
      "239\n",
      "243\n",
      "244\n",
      "246\n",
      "249\n",
      "261\n",
      "262\n",
      "263\n"
     ]
    }
   ],
   "source": [
    "for location in manhattan_locations:\n",
    "    \n",
    "    print(location )\n",
    "    "
   ]
  },
  {
   "cell_type": "code",
   "execution_count": null,
   "metadata": {},
   "outputs": [],
   "source": []
  },
  {
   "cell_type": "code",
   "execution_count": null,
   "metadata": {},
   "outputs": [],
   "source": []
  },
  {
   "cell_type": "code",
   "execution_count": null,
   "metadata": {},
   "outputs": [],
   "source": []
  },
  {
   "cell_type": "code",
   "execution_count": null,
   "metadata": {},
   "outputs": [],
   "source": []
  },
  {
   "cell_type": "code",
   "execution_count": null,
   "metadata": {},
   "outputs": [],
   "source": []
  },
  {
   "cell_type": "code",
   "execution_count": null,
   "metadata": {},
   "outputs": [],
   "source": []
  },
  {
   "cell_type": "code",
   "execution_count": null,
   "metadata": {},
   "outputs": [],
   "source": []
  },
  {
   "cell_type": "code",
   "execution_count": null,
   "metadata": {},
   "outputs": [],
   "source": []
  }
 ],
 "metadata": {
  "kernelspec": {
   "display_name": "Python 3",
   "language": "python",
   "name": "python3"
  },
  "language_info": {
   "codemirror_mode": {
    "name": "ipython",
    "version": 3
   },
   "file_extension": ".py",
   "mimetype": "text/x-python",
   "name": "python",
   "nbconvert_exporter": "python",
   "pygments_lexer": "ipython3",
   "version": "3.6.8"
  }
 },
 "nbformat": 4,
 "nbformat_minor": 2
}
