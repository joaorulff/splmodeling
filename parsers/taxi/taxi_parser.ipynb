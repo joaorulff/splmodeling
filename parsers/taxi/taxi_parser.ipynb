{
 "cells": [
  {
   "cell_type": "code",
   "execution_count": 1,
   "metadata": {},
   "outputs": [],
   "source": [
    "import pandas as pd\n",
    "import numpy as np\n",
    "import glob"
   ]
  },
  {
   "cell_type": "code",
   "execution_count": 2,
   "metadata": {},
   "outputs": [
    {
     "name": "stderr",
     "output_type": "stream",
     "text": [
      "/Users/jlrulff/anaconda3/lib/python3.6/site-packages/pandas/core/frame.py:3781: SettingWithCopyWarning: \n",
      "A value is trying to be set on a copy of a slice from a DataFrame\n",
      "\n",
      "See the caveats in the documentation: http://pandas.pydata.org/pandas-docs/stable/indexing.html#indexing-view-versus-copy\n",
      "  return super(DataFrame, self).rename(**kwargs)\n",
      "/Users/jlrulff/anaconda3/lib/python3.6/site-packages/ipykernel_launcher.py:14: SettingWithCopyWarning: \n",
      "A value is trying to be set on a copy of a slice from a DataFrame.\n",
      "Try using .loc[row_indexer,col_indexer] = value instead\n",
      "\n",
      "See the caveats in the documentation: http://pandas.pydata.org/pandas-docs/stable/indexing.html#indexing-view-versus-copy\n",
      "  \n",
      "/Users/jlrulff/anaconda3/lib/python3.6/site-packages/ipykernel_launcher.py:15: SettingWithCopyWarning: \n",
      "A value is trying to be set on a copy of a slice from a DataFrame.\n",
      "Try using .loc[row_indexer,col_indexer] = value instead\n",
      "\n",
      "See the caveats in the documentation: http://pandas.pydata.org/pandas-docs/stable/indexing.html#indexing-view-versus-copy\n",
      "  from ipykernel import kernelapp as app\n"
     ]
    }
   ],
   "source": [
    "finalDframe = pd.DataFrame()\n",
    "\n",
    "files = glob.glob('../../rawdata/taxi/*tripdata*')\n",
    "for file in files:\n",
    "    \n",
    "    currentDF = pd.read_csv(file)\n",
    "    \n",
    "    dropoffsDF = currentDF[['tpep_dropoff_datetime', 'DOLocationID']]\n",
    "    pickupsDF = currentDF[['tpep_pickup_datetime','PULocationID']]\n",
    "    \n",
    "    dropoffsDF.rename(columns={\"DOLocationID\": \"location\", \"tpep_dropoff_datetime\":\"datetime\"}, inplace=True)\n",
    "    pickupsDF.rename(columns={\"PULocationID\": \"location\", \"tpep_pickup_datetime\":\"datetime\"}, inplace=True)\n",
    "    \n",
    "    dropoffsDF['datetime'] = pd.to_datetime(dropoffsDF['datetime'])\n",
    "    pickupsDF['datetime'] = pd.to_datetime(pickupsDF['datetime'])\n",
    "    \n",
    "    dropoffsDF.set_index(['datetime'], inplace=True)\n",
    "    pickupsDF.set_index(['datetime'], inplace=True)\n",
    "\n",
    "    finalDframe = finalDframe.append(dropoffsDF)\n",
    "    finalDframe = finalDframe.append(pickupsDF)"
   ]
  },
  {
   "cell_type": "code",
   "execution_count": 3,
   "metadata": {},
   "outputs": [],
   "source": [
    "finalDframe.sort_index(ascending=True, inplace=True)"
   ]
  },
  {
   "cell_type": "code",
   "execution_count": null,
   "metadata": {},
   "outputs": [],
   "source": [
    "finalDframe = finalDframe['2018-01-01':'2018-07-01']"
   ]
  },
  {
   "cell_type": "code",
   "execution_count": 7,
   "metadata": {},
   "outputs": [],
   "source": [
    "finalDframe.to_pickle('../../data/taxi/taxi.pkl')"
   ]
  }
 ],
 "metadata": {
  "kernelspec": {
   "display_name": "Python 3",
   "language": "python",
   "name": "python3"
  },
  "language_info": {
   "codemirror_mode": {
    "name": "ipython",
    "version": 3
   },
   "file_extension": ".py",
   "mimetype": "text/x-python",
   "name": "python",
   "nbconvert_exporter": "python",
   "pygments_lexer": "ipython3",
   "version": "3.6.5"
  }
 },
 "nbformat": 4,
 "nbformat_minor": 2
}
