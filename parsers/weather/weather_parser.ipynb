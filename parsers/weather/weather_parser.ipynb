{
 "cells": [
  {
   "cell_type": "code",
   "execution_count": 28,
   "metadata": {},
   "outputs": [],
   "source": [
    "import pandas as pd\n",
    "import numpy as np"
   ]
  },
  {
   "cell_type": "code",
   "execution_count": 29,
   "metadata": {},
   "outputs": [],
   "source": [
    "defaults = pd.read_csv('../../rawdata/weather/weather.defaults')\n",
    "defaults = defaults.columns.values\n",
    "\n",
    "def removeErrorValues(row):\n",
    "    \n",
    "    if(row > 20 and str(row) in defaults):\n",
    "        return 0\n",
    "    else:\n",
    "        return row"
   ]
  },
  {
   "cell_type": "code",
   "execution_count": 30,
   "metadata": {},
   "outputs": [],
   "source": [
    "cols=[0,11]\n",
    "weatherDFrame_header = pd.read_csv('../../rawdata/weather/weather.header', usecols = cols)\n",
    "weatherDFrame = pd.read_csv('../../rawdata/weather/weather', usecols = cols, names=weatherDFrame_header.columns.values)\n",
    "weatherDFrame['datetime'] = pd.to_datetime(weatherDFrame['time'],unit='s')\n",
    "weatherDFrame['datetime'].dt.tz_localize('utc').dt.tz_convert('US/Central')\n",
    "\n",
    "weatherDFrame.sort_values(by=['datetime'], inplace=True)\n",
    "weatherDFrame.set_index(['datetime'], inplace = True)\n",
    "weatherDFrame.drop(['time'], axis=1, inplace=True)"
   ]
  },
  {
   "cell_type": "code",
   "execution_count": 31,
   "metadata": {
    "scrolled": false
   },
   "outputs": [],
   "source": [
    "### cleaning default values\n",
    "weatherDFrame['Spd[Wind]'] = weatherDFrame.apply(lambda row: removeErrorValues(row['Spd[Wind]']), axis=1)"
   ]
  },
  {
   "cell_type": "code",
   "execution_count": 33,
   "metadata": {},
   "outputs": [],
   "source": [
    "weatherDFrame.to_pickle('../../data/weather/weather.pkl')"
   ]
  }
 ],
 "metadata": {
  "kernelspec": {
   "display_name": "Python 3",
   "language": "python",
   "name": "python3"
  },
  "language_info": {
   "codemirror_mode": {
    "name": "ipython",
    "version": 3
   },
   "file_extension": ".py",
   "mimetype": "text/x-python",
   "name": "python",
   "nbconvert_exporter": "python",
   "pygments_lexer": "ipython3",
   "version": "3.6.4"
  }
 },
 "nbformat": 4,
 "nbformat_minor": 2
}
