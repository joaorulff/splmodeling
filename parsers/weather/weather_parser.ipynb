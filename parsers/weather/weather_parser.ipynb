{
 "cells": [
  {
   "cell_type": "code",
   "execution_count": 1,
   "metadata": {},
   "outputs": [],
   "source": [
    "import pandas as pd\n",
    "import numpy as np\n",
    "import time, os"
   ]
  },
  {
   "cell_type": "code",
   "execution_count": 2,
   "metadata": {},
   "outputs": [],
   "source": [
    "defaults = pd.read_csv('../../rawdata/weather/weather.defaults')\n",
    "defaults = defaults.columns.values\n",
    "\n",
    "def removeErrorValues(row):\n",
    "    \n",
    "    if( (row > 30 and str(row) in defaults) or (row == 999.0) ):\n",
    "        return np.nan\n",
    "    else:\n",
    "        return row"
   ]
  },
  {
   "cell_type": "code",
   "execution_count": null,
   "metadata": {},
   "outputs": [],
   "source": [
    "for i in defaults:\n",
    "    print(i)"
   ]
  },
  {
   "cell_type": "code",
   "execution_count": 3,
   "metadata": {},
   "outputs": [],
   "source": [
    "cols=[0,11, 21, 28, 135, 136, 137, 138,  139, 140, 143, 144, 147, 148] \n",
    "p='%Y-%m-%d %H:%M:%S'\n",
    "\n",
    "# weatherDFrame_header = pd.read_csv('../../rawdata/weather/weather.header')\n",
    "weatherDFrame_header = pd.read_csv('../../rawdata/weather/weather.header', usecols = cols)\n",
    "weatherDFrame = pd.read_csv('../../rawdata/weather/weather', usecols = cols, names=weatherDFrame_header.columns.values)\n",
    "\n",
    "weatherDFrame['datetime'] = pd.to_datetime(weatherDFrame['time'],unit='s')\n",
    "weatherDFrame['datetime'].dt.tz_localize('utc').dt.tz_convert('US/Eastern')\n",
    "\n",
    "weatherDFrame.sort_values(by=['datetime'], inplace=True)\n",
    "weatherDFrame.set_index(['datetime'], inplace = True)\n",
    "weatherDFrame.drop(['time'], axis=1, inplace=True)"
   ]
  },
  {
   "cell_type": "code",
   "execution_count": 4,
   "metadata": {
    "scrolled": false
   },
   "outputs": [],
   "source": [
    "### cleaning default values\n",
    "weatherDFrame['Spd[Wind]'] = weatherDFrame.apply(lambda row: removeErrorValues(row['Spd[Wind]']), axis=1)\n",
    "weatherDFrame['Amt[PrecipHourly1]'] = weatherDFrame.apply(lambda row: removeErrorValues(row['Amt[PrecipHourly1]']), axis=1)\n",
    "weatherDFrame['Temp[Temp]'] = weatherDFrame.apply(lambda row: removeErrorValues(row['Temp[Temp]']), axis=1)\n",
    "# weatherDFrame['Amt[Snowfall]'] = weatherDFrame.apply(lambda row: removeErrorValues(row['Amt[Snowfall]']), axis=1)"
   ]
  },
  {
   "cell_type": "code",
   "execution_count": 5,
   "metadata": {},
   "outputs": [],
   "source": [
    "weatherDFrame['Spd[Wind]'] = weatherDFrame['Spd[Wind]'].fillna(weatherDFrame['Spd[Wind]'].shift())\n",
    "weatherDFrame['Amt[PrecipHourly1]'] = weatherDFrame['Amt[PrecipHourly1]'].fillna(0)\n",
    "weatherDFrame['Temp[Temp]'] = weatherDFrame['Temp[Temp]'].fillna((weatherDFrame['Temp[Temp]'].shift() + weatherDFrame['Temp[Temp]'].shift(-1))/2)"
   ]
  },
  {
   "cell_type": "code",
   "execution_count": 7,
   "metadata": {},
   "outputs": [],
   "source": [
    "precipitation = weatherDFrame[['Amt[PrecipHourly1]']]\n",
    "precipitation = precipitation.resample('H').agg({'Amt[PrecipHourly1]': 'mean'})\n",
    "precipitation = precipitation.reset_index()\n",
    "precipitation['datetime'] = (precipitation['datetime'] - pd.Timestamp(\"1970-01-01\")) // pd.Timedelta('1s')\n",
    "precipitation.set_index('datetime', inplace=True)\n",
    "precipitation = precipitation.loc[1388552400:1451624399]\n",
    "\n",
    "wind = weatherDFrame[['Spd[Wind]']]\n",
    "wind = wind.resample('H').agg({'Spd[Wind]': 'mean'})\n",
    "wind = wind.reset_index()\n",
    "wind['datetime'] = (wind['datetime'] - pd.Timestamp(\"1970-01-01\")) // pd.Timedelta('1s')\n",
    "wind.set_index('datetime', inplace=True)\n",
    "wind = wind.loc[1388552400:1451624399]\n",
    "\n",
    "\n",
    "# snowfall = weatherDFrame[['Amt[Snowfall]']]\n",
    "# snowfall = snowfall.resample('H').agg({'Amt[Snowfall]': 'sum'})\n",
    "# snowfall = snowfall.reset_index()\n",
    "# snowfall['datetime'] = (snowfall['datetime'] - pd.Timestamp(\"1970-01-01\")) // pd.Timedelta('1s')\n",
    "# snowfall.set_index('datetime', inplace=True)\n",
    "# snowfall = snowfall.loc[1388552400:1451624399]\n",
    "# snowfall = snowfall['2014-01-01':'2016-01-01']\n",
    "\n",
    "\n",
    "temp = weatherDFrame[['Temp[Temp]']]\n",
    "temp = temp.resample('H').agg({'Temp[Temp]': 'mean'})\n",
    "temp = temp.reset_index()\n",
    "temp['datetime'] = (temp['datetime'] - pd.Timestamp(\"1970-01-01\")) // pd.Timedelta('1s')\n",
    "temp.set_index('datetime', inplace=True)\n",
    "temp = temp.loc[1388552400:1451624399]\n",
    "# temp = temp['2014-01-01':'2016-01-01']\n",
    "\n",
    "# snowfall.to_csv('../../data/weather/snowfall.csv')\n",
    "precipitation.to_csv('../../data/weather/precipitation.csv', index=False)\n",
    "wind.to_csv('../../data/weather/wind.csv', index=False)\n",
    "temp.to_csv('../../data/weather/temperature.csv', index=False)"
   ]
  },
  {
   "cell_type": "code",
   "execution_count": 370,
   "metadata": {},
   "outputs": [
    {
     "data": {
      "text/plain": [
       "<matplotlib.axes._subplots.AxesSubplot at 0x7f588adbf4a8>"
      ]
     },
     "execution_count": 370,
     "metadata": {},
     "output_type": "execute_result"
    },
    {
     "data": {
      "image/png": "[encoded data removed]",
      "text/plain": [
       "<matplotlib.figure.Figure at 0x7f588adaa668>"
      ]
     },
     "metadata": {},
     "output_type": "display_data"
    }
   ],
   "source": [
    "# snowfall = weatherDFrame[['Q[Snowfall]']]\n",
    "# snowfall[snowfall['Q[Snowfall]'] < 90]['2014-01-01':'2016-01-01']\n",
    "\n",
    "# snowfall[ (snowfall['Amt[Snowfall]'] > 0) & (snowfall['Amt[Snowfall]'] < 99)]\n",
    "wind.plot()"
   ]
  }
 ],
 "metadata": {
  "kernelspec": {
   "display_name": "Python 3",
   "language": "python",
   "name": "python3"
  },
  "language_info": {
   "codemirror_mode": {
    "name": "ipython",
    "version": 3
   },
   "file_extension": ".py",
   "mimetype": "text/x-python",
   "name": "python",
   "nbconvert_exporter": "python",
   "pygments_lexer": "ipython3",
   "version": "3.6.8"
  }
 },
 "nbformat": 4,
 "nbformat_minor": 2
}
