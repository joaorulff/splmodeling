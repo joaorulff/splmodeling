{
 "cells": [
  {
   "cell_type": "markdown",
   "metadata": {},
   "source": [
    "## Imports"
   ]
  },
  {
   "cell_type": "code",
   "execution_count": 1,
   "metadata": {},
   "outputs": [],
   "source": [
    "import pandas as pd\n",
    "import numpy as np\n",
    "import datetime\n",
    "import shapely\n",
    "from shapely.geometry import Point\n",
    "from shapely.geometry import Polygon\n",
    "import geopandas as gpd\n",
    "import geog\n",
    "import os\n",
    "\n",
    "from folium.plugins import HeatMap\n",
    "import folium"
   ]
  },
  {
   "cell_type": "markdown",
   "metadata": {},
   "source": [
    "## Spatial Filtering"
   ]
  },
  {
   "cell_type": "code",
   "execution_count": 2,
   "metadata": {},
   "outputs": [
    {
     "name": "stderr",
     "output_type": "stream",
     "text": [
      "/Users/jlrulff/anaconda3/lib/python3.6/site-packages/IPython/core/interactiveshell.py:2785: DtypeWarning: Columns (1,8,9,10,15,25,31,33,34,35,36,51,52) have mixed types. Specify dtype option on import or set low_memory=False.\n",
      "  interactivity=interactivity, compiler=compiler, result=result)\n"
     ]
    }
   ],
   "source": [
    "dataframe = pd.read_csv('./DOB_Permit_Issuance.csv')"
   ]
  },
  {
   "cell_type": "code",
   "execution_count": 3,
   "metadata": {},
   "outputs": [],
   "source": [
    "dataframe = dataframe[['Expiration Date', 'Job Start Date', 'LATITUDE', 'LONGITUDE', 'Job Type','BOROUGH', 'Block', 'Lot']]\n",
    "dataframe.dropna(inplace=True)"
   ]
  },
  {
   "cell_type": "code",
   "execution_count": 4,
   "metadata": {},
   "outputs": [
    {
     "data": {
      "text/html": [
       "<div>\n",
       "<style scoped>\n",
       "    .dataframe tbody tr th:only-of-type {\n",
       "        vertical-align: middle;\n",
       "    }\n",
       "\n",
       "    .dataframe tbody tr th {\n",
       "        vertical-align: top;\n",
       "    }\n",
       "\n",
       "    .dataframe thead th {\n",
       "        text-align: right;\n",
       "    }\n",
       "</style>\n",
       "<table border=\"1\" class=\"dataframe\">\n",
       "  <thead>\n",
       "    <tr style=\"text-align: right;\">\n",
       "      <th></th>\n",
       "      <th>Expiration Date</th>\n",
       "      <th>Job Start Date</th>\n",
       "      <th>LATITUDE</th>\n",
       "      <th>LONGITUDE</th>\n",
       "      <th>Job Type</th>\n",
       "      <th>BOROUGH</th>\n",
       "      <th>Block</th>\n",
       "      <th>Lot</th>\n",
       "    </tr>\n",
       "  </thead>\n",
       "  <tbody>\n",
       "    <tr>\n",
       "      <th>0</th>\n",
       "      <td>02/15/2020 12:00:00 AM</td>\n",
       "      <td>10/10/2018 12:00:00 AM</td>\n",
       "      <td>40.820932</td>\n",
       "      <td>-73.948955</td>\n",
       "      <td>A2</td>\n",
       "      <td>MANHATTAN</td>\n",
       "      <td>1957</td>\n",
       "      <td>200</td>\n",
       "    </tr>\n",
       "    <tr>\n",
       "      <th>1</th>\n",
       "      <td>05/21/2019 12:00:00 AM</td>\n",
       "      <td>03/18/2019 12:00:00 AM</td>\n",
       "      <td>40.768696</td>\n",
       "      <td>-73.958425</td>\n",
       "      <td>A2</td>\n",
       "      <td>MANHATTAN</td>\n",
       "      <td>1446</td>\n",
       "      <td>151</td>\n",
       "    </tr>\n",
       "    <tr>\n",
       "      <th>2</th>\n",
       "      <td>01/05/2020 12:00:00 AM</td>\n",
       "      <td>03/18/2019 12:00:00 AM</td>\n",
       "      <td>40.778520</td>\n",
       "      <td>-73.960535</td>\n",
       "      <td>A2</td>\n",
       "      <td>MANHATTAN</td>\n",
       "      <td>1494</td>\n",
       "      <td>15</td>\n",
       "    </tr>\n",
       "    <tr>\n",
       "      <th>3</th>\n",
       "      <td>03/14/2020 12:00:00 AM</td>\n",
       "      <td>05/31/2013 12:00:00 AM</td>\n",
       "      <td>40.705521</td>\n",
       "      <td>-73.922715</td>\n",
       "      <td>A1</td>\n",
       "      <td>BROOKLYN</td>\n",
       "      <td>3199</td>\n",
       "      <td>26</td>\n",
       "    </tr>\n",
       "    <tr>\n",
       "      <th>4</th>\n",
       "      <td>07/03/2019 12:00:00 AM</td>\n",
       "      <td>03/18/2019 12:00:00 AM</td>\n",
       "      <td>40.771173</td>\n",
       "      <td>-73.955947</td>\n",
       "      <td>A2</td>\n",
       "      <td>MANHATTAN</td>\n",
       "      <td>1451</td>\n",
       "      <td>9</td>\n",
       "    </tr>\n",
       "  </tbody>\n",
       "</table>\n",
       "</div>"
      ],
      "text/plain": [
       "          Expiration Date          Job Start Date   LATITUDE  LONGITUDE  \\\n",
       "0  02/15/2020 12:00:00 AM  10/10/2018 12:00:00 AM  40.820932 -73.948955   \n",
       "1  05/21/2019 12:00:00 AM  03/18/2019 12:00:00 AM  40.768696 -73.958425   \n",
       "2  01/05/2020 12:00:00 AM  03/18/2019 12:00:00 AM  40.778520 -73.960535   \n",
       "3  03/14/2020 12:00:00 AM  05/31/2013 12:00:00 AM  40.705521 -73.922715   \n",
       "4  07/03/2019 12:00:00 AM  03/18/2019 12:00:00 AM  40.771173 -73.955947   \n",
       "\n",
       "  Job Type    BOROUGH Block  Lot  \n",
       "0       A2  MANHATTAN  1957  200  \n",
       "1       A2  MANHATTAN  1446  151  \n",
       "2       A2  MANHATTAN  1494   15  \n",
       "3       A1   BROOKLYN  3199   26  \n",
       "4       A2  MANHATTAN  1451    9  "
      ]
     },
     "execution_count": 4,
     "metadata": {},
     "output_type": "execute_result"
    }
   ],
   "source": [
    "dataframe.head()"
   ]
  },
  {
   "cell_type": "code",
   "execution_count": 5,
   "metadata": {},
   "outputs": [],
   "source": [
    "dataframe['Job Start Date'] = pd.to_datetime(dataframe['Job Start Date'], errors='coerce', format='%m/%d/%Y %H:%M:%S %p')\n",
    "dataframe['Expiration Date'] = pd.to_datetime(dataframe['Expiration Date'], errors='coerce', format='%m/%d/%Y %H:%M:%S %p')"
   ]
  },
  {
   "cell_type": "code",
   "execution_count": 6,
   "metadata": {},
   "outputs": [],
   "source": [
    "# dataframe = dataframe[dataframe['Expiration Date'] > '2016-04-01']\n",
    "dataframe = dataframe[dataframe['Job Start Date'] < '2017-04-01']\n",
    "dataframe = dataframe[dataframe['Job Start Date'] > '2016-04-01']\n",
    "\n",
    "dataframe = dataframe[dataframe['Expiration Date'] > dataframe['Job Start Date']]"
   ]
  },
  {
   "cell_type": "code",
   "execution_count": 7,
   "metadata": {},
   "outputs": [
    {
     "ename": "NameError",
     "evalue": "(\"name 'formatBBL' is not defined\", 'occurred at index 39')",
     "output_type": "error",
     "traceback": [
      "\u001b[0;31m---------------------------------------------------------------------------\u001b[0m",
      "\u001b[0;31mNameError\u001b[0m                                 Traceback (most recent call last)",
      "\u001b[0;32m<ipython-input-7-0e57d3478859>\u001b[0m in \u001b[0;36m<module>\u001b[0;34m()\u001b[0m\n\u001b[0;32m----> 1\u001b[0;31m \u001b[0mdataframe\u001b[0m\u001b[0;34m[\u001b[0m\u001b[0;34m'BBL'\u001b[0m\u001b[0;34m]\u001b[0m \u001b[0;34m=\u001b[0m \u001b[0mdataframe\u001b[0m\u001b[0;34m.\u001b[0m\u001b[0mapply\u001b[0m\u001b[0;34m(\u001b[0m\u001b[0;32mlambda\u001b[0m \u001b[0mrow\u001b[0m\u001b[0;34m:\u001b[0m \u001b[0mformatBBL\u001b[0m\u001b[0;34m(\u001b[0m\u001b[0mrow\u001b[0m\u001b[0;34m[\u001b[0m\u001b[0;34m'Block'\u001b[0m\u001b[0;34m]\u001b[0m\u001b[0;34m,\u001b[0m \u001b[0mrow\u001b[0m\u001b[0;34m[\u001b[0m\u001b[0;34m'Lot'\u001b[0m\u001b[0;34m]\u001b[0m\u001b[0;34m)\u001b[0m\u001b[0;34m,\u001b[0m \u001b[0maxis\u001b[0m\u001b[0;34m=\u001b[0m\u001b[0;36m1\u001b[0m\u001b[0;34m)\u001b[0m\u001b[0;34m\u001b[0m\u001b[0m\n\u001b[0m",
      "\u001b[0;32m~/anaconda3/lib/python3.6/site-packages/pandas/core/frame.py\u001b[0m in \u001b[0;36mapply\u001b[0;34m(self, func, axis, broadcast, raw, reduce, result_type, args, **kwds)\u001b[0m\n\u001b[1;32m   6485\u001b[0m                          \u001b[0margs\u001b[0m\u001b[0;34m=\u001b[0m\u001b[0margs\u001b[0m\u001b[0;34m,\u001b[0m\u001b[0;34m\u001b[0m\u001b[0m\n\u001b[1;32m   6486\u001b[0m                          kwds=kwds)\n\u001b[0;32m-> 6487\u001b[0;31m         \u001b[0;32mreturn\u001b[0m \u001b[0mop\u001b[0m\u001b[0;34m.\u001b[0m\u001b[0mget_result\u001b[0m\u001b[0;34m(\u001b[0m\u001b[0;34m)\u001b[0m\u001b[0;34m\u001b[0m\u001b[0m\n\u001b[0m\u001b[1;32m   6488\u001b[0m \u001b[0;34m\u001b[0m\u001b[0m\n\u001b[1;32m   6489\u001b[0m     \u001b[0;32mdef\u001b[0m \u001b[0mapplymap\u001b[0m\u001b[0;34m(\u001b[0m\u001b[0mself\u001b[0m\u001b[0;34m,\u001b[0m \u001b[0mfunc\u001b[0m\u001b[0;34m)\u001b[0m\u001b[0;34m:\u001b[0m\u001b[0;34m\u001b[0m\u001b[0m\n",
      "\u001b[0;32m~/anaconda3/lib/python3.6/site-packages/pandas/core/apply.py\u001b[0m in \u001b[0;36mget_result\u001b[0;34m(self)\u001b[0m\n\u001b[1;32m    149\u001b[0m             \u001b[0;32mreturn\u001b[0m \u001b[0mself\u001b[0m\u001b[0;34m.\u001b[0m\u001b[0mapply_raw\u001b[0m\u001b[0;34m(\u001b[0m\u001b[0;34m)\u001b[0m\u001b[0;34m\u001b[0m\u001b[0m\n\u001b[1;32m    150\u001b[0m \u001b[0;34m\u001b[0m\u001b[0m\n\u001b[0;32m--> 151\u001b[0;31m         \u001b[0;32mreturn\u001b[0m \u001b[0mself\u001b[0m\u001b[0;34m.\u001b[0m\u001b[0mapply_standard\u001b[0m\u001b[0;34m(\u001b[0m\u001b[0;34m)\u001b[0m\u001b[0;34m\u001b[0m\u001b[0m\n\u001b[0m\u001b[1;32m    152\u001b[0m \u001b[0;34m\u001b[0m\u001b[0m\n\u001b[1;32m    153\u001b[0m     \u001b[0;32mdef\u001b[0m \u001b[0mapply_empty_result\u001b[0m\u001b[0;34m(\u001b[0m\u001b[0mself\u001b[0m\u001b[0;34m)\u001b[0m\u001b[0;34m:\u001b[0m\u001b[0;34m\u001b[0m\u001b[0m\n",
      "\u001b[0;32m~/anaconda3/lib/python3.6/site-packages/pandas/core/apply.py\u001b[0m in \u001b[0;36mapply_standard\u001b[0;34m(self)\u001b[0m\n\u001b[1;32m    255\u001b[0m \u001b[0;34m\u001b[0m\u001b[0m\n\u001b[1;32m    256\u001b[0m         \u001b[0;31m# compute the result using the series generator\u001b[0m\u001b[0;34m\u001b[0m\u001b[0;34m\u001b[0m\u001b[0m\n\u001b[0;32m--> 257\u001b[0;31m         \u001b[0mself\u001b[0m\u001b[0;34m.\u001b[0m\u001b[0mapply_series_generator\u001b[0m\u001b[0;34m(\u001b[0m\u001b[0;34m)\u001b[0m\u001b[0;34m\u001b[0m\u001b[0m\n\u001b[0m\u001b[1;32m    258\u001b[0m \u001b[0;34m\u001b[0m\u001b[0m\n\u001b[1;32m    259\u001b[0m         \u001b[0;31m# wrap results\u001b[0m\u001b[0;34m\u001b[0m\u001b[0;34m\u001b[0m\u001b[0m\n",
      "\u001b[0;32m~/anaconda3/lib/python3.6/site-packages/pandas/core/apply.py\u001b[0m in \u001b[0;36mapply_series_generator\u001b[0;34m(self)\u001b[0m\n\u001b[1;32m    284\u001b[0m             \u001b[0;32mtry\u001b[0m\u001b[0;34m:\u001b[0m\u001b[0;34m\u001b[0m\u001b[0m\n\u001b[1;32m    285\u001b[0m                 \u001b[0;32mfor\u001b[0m \u001b[0mi\u001b[0m\u001b[0;34m,\u001b[0m \u001b[0mv\u001b[0m \u001b[0;32min\u001b[0m \u001b[0menumerate\u001b[0m\u001b[0;34m(\u001b[0m\u001b[0mseries_gen\u001b[0m\u001b[0;34m)\u001b[0m\u001b[0;34m:\u001b[0m\u001b[0;34m\u001b[0m\u001b[0m\n\u001b[0;32m--> 286\u001b[0;31m                     \u001b[0mresults\u001b[0m\u001b[0;34m[\u001b[0m\u001b[0mi\u001b[0m\u001b[0;34m]\u001b[0m \u001b[0;34m=\u001b[0m \u001b[0mself\u001b[0m\u001b[0;34m.\u001b[0m\u001b[0mf\u001b[0m\u001b[0;34m(\u001b[0m\u001b[0mv\u001b[0m\u001b[0;34m)\u001b[0m\u001b[0;34m\u001b[0m\u001b[0m\n\u001b[0m\u001b[1;32m    287\u001b[0m                     \u001b[0mkeys\u001b[0m\u001b[0;34m.\u001b[0m\u001b[0mappend\u001b[0m\u001b[0;34m(\u001b[0m\u001b[0mv\u001b[0m\u001b[0;34m.\u001b[0m\u001b[0mname\u001b[0m\u001b[0;34m)\u001b[0m\u001b[0;34m\u001b[0m\u001b[0m\n\u001b[1;32m    288\u001b[0m             \u001b[0;32mexcept\u001b[0m \u001b[0mException\u001b[0m \u001b[0;32mas\u001b[0m \u001b[0me\u001b[0m\u001b[0;34m:\u001b[0m\u001b[0;34m\u001b[0m\u001b[0m\n",
      "\u001b[0;32m<ipython-input-7-0e57d3478859>\u001b[0m in \u001b[0;36m<lambda>\u001b[0;34m(row)\u001b[0m\n\u001b[0;32m----> 1\u001b[0;31m \u001b[0mdataframe\u001b[0m\u001b[0;34m[\u001b[0m\u001b[0;34m'BBL'\u001b[0m\u001b[0;34m]\u001b[0m \u001b[0;34m=\u001b[0m \u001b[0mdataframe\u001b[0m\u001b[0;34m.\u001b[0m\u001b[0mapply\u001b[0m\u001b[0;34m(\u001b[0m\u001b[0;32mlambda\u001b[0m \u001b[0mrow\u001b[0m\u001b[0;34m:\u001b[0m \u001b[0mformatBBL\u001b[0m\u001b[0;34m(\u001b[0m\u001b[0mrow\u001b[0m\u001b[0;34m[\u001b[0m\u001b[0;34m'Block'\u001b[0m\u001b[0;34m]\u001b[0m\u001b[0;34m,\u001b[0m \u001b[0mrow\u001b[0m\u001b[0;34m[\u001b[0m\u001b[0;34m'Lot'\u001b[0m\u001b[0;34m]\u001b[0m\u001b[0;34m)\u001b[0m\u001b[0;34m,\u001b[0m \u001b[0maxis\u001b[0m\u001b[0;34m=\u001b[0m\u001b[0;36m1\u001b[0m\u001b[0;34m)\u001b[0m\u001b[0;34m\u001b[0m\u001b[0m\n\u001b[0m",
      "\u001b[0;31mNameError\u001b[0m: (\"name 'formatBBL' is not defined\", 'occurred at index 39')"
     ]
    }
   ],
   "source": [
    "dataframe['BBL'] = dataframe.apply(lambda row: formatBBL(row['Block'], row['Lot']), axis=1)"
   ]
  },
  {
   "cell_type": "code",
   "execution_count": null,
   "metadata": {},
   "outputs": [],
   "source": [
    "dataframe['geometry'] = dataframe.apply(lambda row: latLngToPoint(row['LATITUDE'], row['LONGITUDE']), axis = 1)"
   ]
  },
  {
   "cell_type": "code",
   "execution_count": null,
   "metadata": {},
   "outputs": [],
   "source": [
    "job_types = ['A1','NB','DM']\n",
    "dataframe = dataframe[dataframe['Job Type'].isin(job_types)]"
   ]
  },
  {
   "cell_type": "code",
   "execution_count": null,
   "metadata": {},
   "outputs": [],
   "source": [
    "dataframe = dataframe[ (dataframe['BOROUGH'] == 'MANHATTAN') | (dataframe['BOROUGH'] == 'BROOKLYN')]"
   ]
  },
  {
   "cell_type": "code",
   "execution_count": null,
   "metadata": {
    "scrolled": false
   },
   "outputs": [],
   "source": [
    "dataframe = dataframe.sort_values(by='BBL')"
   ]
  },
  {
   "cell_type": "code",
   "execution_count": 136,
   "metadata": {},
   "outputs": [
    {
     "name": "stderr",
     "output_type": "stream",
     "text": [
      "/Users/jlrulff/anaconda3/lib/python3.6/site-packages/ipykernel_launcher.py:2: SettingWithCopyWarning: \n",
      "A value is trying to be set on a copy of a slice from a DataFrame.\n",
      "Try using .loc[row_indexer,col_indexer] = value instead\n",
      "\n",
      "See the caveats in the documentation: http://pandas.pydata.org/pandas-docs/stable/indexing.html#indexing-view-versus-copy\n",
      "  \n"
     ]
    }
   ],
   "source": [
    "carmera = dataframe[['Job Start Date', 'LATITUDE', 'LONGITUDE']]\n",
    "carmera['Job Start Date'] = (carmera['Job Start Date'] - pd.Timestamp(\"1970-01-01\")) // pd.Timedelta('1s')"
   ]
  },
  {
   "cell_type": "code",
   "execution_count": 137,
   "metadata": {},
   "outputs": [],
   "source": [
    "carmera = carmera[['LATITUDE','LONGITUDE', 'Job Start Date']]\n",
    "carmera.rename(columns={'LATITUDE':'lat', 'LONGITUDE':'lng', 'Job Start Date':'timestamp'}, inplace=True)\n",
    "carmera.to_csv('./timeseries_carmera/permits.csv', index = False)"
   ]
  },
  {
   "cell_type": "code",
   "execution_count": 49,
   "metadata": {},
   "outputs": [],
   "source": [
    "dataframe = dataframe.groupby(['BBL']).agg({\n",
    "    'LATITUDE':'first',\n",
    "    'LONGITUDE':'first',\n",
    "    'geometry':'first',\n",
    "    'Expiration Date': 'max',\n",
    "    'Job Start Date': 'min'})"
   ]
  },
  {
   "cell_type": "code",
   "execution_count": 47,
   "metadata": {},
   "outputs": [],
   "source": [
    "DOBGeoDF = gpd.GeoDataFrame(dataframe, crs={'init' : 'epsg:4326'}, geometry='geometry')\n",
    "DOBGeoDF = DOBGeoDF.to_crs({'init':'epsg:3857'})"
   ]
  },
  {
   "cell_type": "code",
   "execution_count": 48,
   "metadata": {},
   "outputs": [
    {
     "name": "stdout",
     "output_type": "stream",
     "text": [
      "Spatial Join Done:  (29, 6)\n",
      "Spatial Join Done:  (17, 6)\n",
      "Spatial Join Done:  (20, 6)\n",
      "Spatial Join Done:  (49, 6)\n",
      "Spatial Join Done:  (15, 6)\n",
      "Spatial Join Done:  (26, 6)\n",
      "Spatial Join Done:  (0, 6)\n",
      "Spatial Join Done:  (34, 6)\n",
      "Spatial Join Done:  (20, 6)\n",
      "Spatial Join Done:  (15, 6)\n",
      "Spatial Join Done:  (0, 6)\n",
      "Spatial Join Done:  (34, 6)\n",
      "Spatial Join Done:  (48, 6)\n",
      "Spatial Join Done:  (23, 6)\n",
      "Spatial Join Done:  (0, 6)\n",
      "Spatial Join Done:  (36, 6)\n",
      "Spatial Join Done:  (19, 6)\n",
      "Spatial Join Done:  (18, 6)\n",
      "Spatial Join Done:  (34, 6)\n",
      "Spatial Join Done:  (22, 6)\n",
      "Spatial Join Done:  (0, 6)\n",
      "Spatial Join Done:  (25, 6)\n",
      "Spatial Join Done:  (0, 6)\n",
      "Spatial Join Done:  (16, 6)\n",
      "Spatial Join Done:  (0, 6)\n",
      "Spatial Join Done:  (37, 6)\n",
      "Spatial Join Done:  (12, 6)\n",
      "Spatial Join Done:  (22, 6)\n",
      "Spatial Join Done:  (26, 6)\n",
      "Spatial Join Done:  (32, 6)\n",
      "Spatial Join Done:  (14, 6)\n",
      "Spatial Join Done:  (30, 6)\n",
      "Spatial Join Done:  (15, 6)\n",
      "Spatial Join Done:  (37, 6)\n",
      "Spatial Join Done:  (16, 6)\n",
      "Spatial Join Done:  (22, 6)\n",
      "Spatial Join Done:  (16, 6)\n",
      "Spatial Join Done:  (14, 6)\n",
      "Spatial Join Done:  (46, 6)\n",
      "Spatial Join Done:  (0, 6)\n",
      "Spatial Join Done:  (14, 6)\n",
      "Spatial Join Done:  (0, 6)\n",
      "Spatial Join Done:  (24, 6)\n",
      "Spatial Join Done:  (53, 6)\n",
      "Spatial Join Done:  (20, 6)\n",
      "Spatial Join Done:  (24, 6)\n",
      "Spatial Join Done:  (43, 6)\n",
      "Spatial Join Done:  (39, 6)\n",
      "Spatial Join Done:  (18, 6)\n",
      "Spatial Join Done:  (0, 6)\n"
     ]
    }
   ],
   "source": [
    "f = open('./sensors/nodes.txt')\n",
    "\n",
    "sensor_timeseries = {}\n",
    "\n",
    "for line in f:\n",
    "    \n",
    "    s, lat, lon = line.split(' ')\n",
    "    \n",
    "    lat = float(lat)\n",
    "    lon = float(lon)\n",
    "    \n",
    "#     filteredDF = spatialJoin(DOBGeoDF, lat, lon)\n",
    "    \n",
    "    timeseries = pd.DataFrame()\n",
    "    timeseries['datetime'] = pd.date_range('2018-01-01 00:00:00', '2018-12-31 23:00:00', freq='1h')\n",
    "    timeseries['count'] = 0\n",
    "    timeseries.set_index('datetime', inplace=True)\n",
    "\n",
    "#     print('Spatial Join Done: ', filteredDF.shape)\n",
    "    \n",
    "    for i in range(0, filteredDF.shape[0]):\n",
    "    \n",
    "        filtered_current_df = keepOnlyWorkingHours(filteredDF.iloc[i]['Job Start Date'], filteredDF.iloc[i]['Expiration Date'])\n",
    "        timeseries['count'] = filtered_current_df['count'] + timeseries['count']\n",
    "        \n",
    "    sensor_timeseries[s] = timeseries\n",
    "    timeseries.to_csv('./timeseries_carmera/' + s + '.csv')\n",
    "        \n",
    "f.close()"
   ]
  },
  {
   "cell_type": "markdown",
   "metadata": {},
   "source": [
    "## Timeseries"
   ]
  },
  {
   "cell_type": "code",
   "execution_count": 27,
   "metadata": {},
   "outputs": [],
   "source": [
    "f = open('./sensors/nodes.txt')\n",
    "\n",
    "exampleTS = None\n",
    "\n",
    "for line in f:\n",
    "    s, lat, lon = line.split(' ')\n",
    "    \n",
    "    exampleTS = pd.read_csv('./output_timeseries/'+s+'.csv')\n",
    "    \n",
    "    break"
   ]
  },
  {
   "cell_type": "code",
   "execution_count": 28,
   "metadata": {},
   "outputs": [],
   "source": [
    "exampleTS['datetime'] = pd.to_datetime(exampleTS['datetime'])\n",
    "exampleTS.set_index('datetime', inplace=True)\n",
    "# plot.plot()"
   ]
  },
  {
   "cell_type": "code",
   "execution_count": null,
   "metadata": {},
   "outputs": [],
   "source": []
  },
  {
   "cell_type": "code",
   "execution_count": 42,
   "metadata": {},
   "outputs": [
    {
     "data": {
      "text/plain": [
       "<matplotlib.axes._subplots.AxesSubplot at 0x1b1ffcc88>"
      ]
     },
     "execution_count": 42,
     "metadata": {},
     "output_type": "execute_result"
    },
    {
     "data": {
      "image/png": "[encoded data removed]",
      "text/plain": [
       "<Figure size 1080x288 with 1 Axes>"
      ]
     },
     "metadata": {},
     "output_type": "display_data"
    }
   ],
   "source": [
    "exampleTS['2018-01-01':'2018-04-01'].plot(figsize=(15,4))"
   ]
  },
  {
   "cell_type": "code",
   "execution_count": null,
   "metadata": {},
   "outputs": [],
   "source": []
  },
  {
   "cell_type": "code",
   "execution_count": null,
   "metadata": {},
   "outputs": [],
   "source": []
  },
  {
   "cell_type": "code",
   "execution_count": null,
   "metadata": {},
   "outputs": [],
   "source": []
  },
  {
   "cell_type": "markdown",
   "metadata": {
    "heading_collapsed": true
   },
   "source": [
    "## Helper Functions"
   ]
  },
  {
   "cell_type": "code",
   "execution_count": 8,
   "metadata": {
    "hidden": true
   },
   "outputs": [],
   "source": [
    "def keepOnlyWorkingHours(startDate, endDate):\n",
    "    \n",
    "    local_df = pd.DataFrame()\n",
    "    local_df['datetime'] = pd.date_range('2018-01-01 00:00:00', '2018-12-31 23:00:00', freq='1h')\n",
    "    local_df.set_index('datetime', inplace=True)\n",
    "    local_df['count'] = 0\n",
    "    \n",
    "    hour = datetime.timedelta(hours=1)\n",
    "\n",
    "    while (startDate <= endDate):\n",
    "        \n",
    "        if(startDate.year > 2018):\n",
    "            break\n",
    "        else:\n",
    "            if( (startDate.hour >= 7) and (startDate.hour <= 18) and (startDate.year == 2018)):\n",
    "                local_df.loc[startDate]['count'] = 1\n",
    "                \n",
    "        startDate = startDate + hour\n",
    "        \n",
    "    return local_df\n",
    "\n",
    "\n",
    "def spatialJoin(geoDataFrame, lat, lon):\n",
    "    \n",
    "    d = 300\n",
    "    n_points = 20\n",
    "    angles = np.linspace(0, 360, n_points)\n",
    "    center = shapely.geometry.Point(lon, lat)\n",
    "    polygon = Polygon(geog.propagate(center, angles, d))\n",
    "    \n",
    "    sinpoly = gpd.GeoDataFrame(crs={'init': 'epsg:4326'})\n",
    "    sinpoly = sinpoly.append({'geometry': polygon}, ignore_index=True)\n",
    "    sinpoly = sinpoly.to_crs({'init':'epsg:3857'})\n",
    "    \n",
    "    dataframe = gpd.tools.sjoin(geoDataFrame, sinpoly, how='inner', op='within')\n",
    "    \n",
    "    return dataframe\n",
    "\n",
    "def latLngToPoint(lat, lng):\n",
    "    \n",
    "    return shapely.geometry.Point(lng, lat)\n",
    "\n",
    "def formatBBL(block, lot):\n",
    "    \n",
    "    block = str(block)\n",
    "    lot = str(lot)\n",
    "    \n",
    "    block_split = block.split('.')[0]\n",
    "    lot_split = lot.split('.')[0]\n",
    "    \n",
    "    BBL = str(block_split) + str(lot_split)\n",
    "    \n",
    "    return BBL\n",
    "\n",
    "def aggregationLargestInterval(series):\n",
    "    print(series[0])\n",
    "    return series[0]"
   ]
  }
 ],
 "metadata": {
  "kernelspec": {
   "display_name": "Python 3",
   "language": "python",
   "name": "python3"
  },
  "language_info": {
   "codemirror_mode": {
    "name": "ipython",
    "version": 3
   },
   "file_extension": ".py",
   "mimetype": "text/x-python",
   "name": "python",
   "nbconvert_exporter": "python",
   "pygments_lexer": "ipython3",
   "version": "3.6.5"
  }
 },
 "nbformat": 4,
 "nbformat_minor": 2
}
