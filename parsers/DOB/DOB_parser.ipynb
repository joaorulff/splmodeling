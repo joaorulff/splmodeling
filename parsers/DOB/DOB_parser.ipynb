{
 "cells": [
  {
   "cell_type": "code",
   "execution_count": 17,
   "metadata": {},
   "outputs": [],
   "source": [
    "import pandas as pd\n",
    "import numpy as np\n",
    "import glob\n",
    "import os"
   ]
  },
  {
   "cell_type": "code",
   "execution_count": 18,
   "metadata": {},
   "outputs": [],
   "source": [
    "files = glob.glob('../../data/DOB/sonycnode*')\n",
    "\n",
    "finalDF = pd.DataFrame()\n",
    "\n",
    "for file in files:\n",
    "    \n",
    "    # Extracting sensorID\n",
    "    sensorID = os.path.split(file)[1].split('.')\n",
    "    sensorID = sensorID[0] + sensorID[1]\n",
    "    \n",
    "    currentDF = pd.read_csv(file)\n",
    "    currentDF['sensorID'] = sensorID\n",
    "    \n",
    "    finalDF = finalDF.append(currentDF)"
   ]
  },
  {
   "cell_type": "code",
   "execution_count": 19,
   "metadata": {},
   "outputs": [],
   "source": [
    "finalDF.set_index('datetime', inplace=True)\n",
    "finalDF.to_csv('../../data/DOB/DOB.csv')"
   ]
  }
 ],
 "metadata": {
  "kernelspec": {
   "display_name": "Python 3",
   "language": "python",
   "name": "python3"
  },
  "language_info": {
   "codemirror_mode": {
    "name": "ipython",
    "version": 3
   },
   "file_extension": ".py",
   "mimetype": "text/x-python",
   "name": "python",
   "nbconvert_exporter": "python",
   "pygments_lexer": "ipython3",
   "version": "3.6.8"
  }
 },
 "nbformat": 4,
 "nbformat_minor": 2
}
