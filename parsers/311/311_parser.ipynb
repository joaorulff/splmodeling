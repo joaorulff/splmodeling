{
 "cells": [
  {
   "cell_type": "code",
   "execution_count": 2,
   "metadata": {},
   "outputs": [],
   "source": [
    "import pandas as pd\n",
    "import numpy as np\n",
    "import matplotlib.pyplot as plt\n",
    "import shapely\n",
    "from shapely.geometry import Point\n",
    "from shapely.geometry import Polygon\n",
    "import geopandas as gpd\n",
    "from shapely.geometry import Point\n",
    "from shapely.geometry import Polygon\n",
    "import shapely\n",
    "import geopandas as gpd\n",
    "import geog\n",
    "import folium\n",
    "from folium.plugins import HeatMap"
   ]
  },
  {
   "cell_type": "code",
   "execution_count": 3,
   "metadata": {},
   "outputs": [
    {
     "name": "stderr",
     "output_type": "stream",
     "text": [
      "/home/jlrulff/anaconda3/lib/python3.6/site-packages/IPython/core/interactiveshell.py:2728: DtypeWarning: Columns (8,17,31,32,33,34,35,36,37) have mixed types. Specify dtype option on import or set low_memory=False.\n",
      "  interactivity=interactivity, compiler=compiler, result=result)\n"
     ]
    }
   ],
   "source": [
    "dFrame = pd.read_csv('../../rawdata/311/311.csv')"
   ]
  },
  {
   "cell_type": "code",
   "execution_count": 4,
   "metadata": {},
   "outputs": [
    {
     "data": {
      "text/plain": [
       "Index(['Unique Key', 'Created Date', 'Closed Date', 'Agency', 'Agency Name',\n",
       "       'Complaint Type', 'Descriptor', 'Location Type', 'Incident Zip',\n",
       "       'Incident Address', 'Street Name', 'Cross Street 1', 'Cross Street 2',\n",
       "       'Intersection Street 1', 'Intersection Street 2', 'Address Type',\n",
       "       'City', 'Landmark', 'Facility Type', 'Status', 'Due Date',\n",
       "       'Resolution Description', 'Resolution Action Updated Date',\n",
       "       'Community Board', 'BBL', 'Borough', 'X Coordinate (State Plane)',\n",
       "       'Y Coordinate (State Plane)', 'Open Data Channel Type',\n",
       "       'Park Facility Name', 'Park Borough', 'Vehicle Type',\n",
       "       'Taxi Company Borough', 'Taxi Pick Up Location', 'Bridge Highway Name',\n",
       "       'Bridge Highway Direction', 'Road Ramp', 'Bridge Highway Segment',\n",
       "       'Latitude', 'Longitude', 'Location'],\n",
       "      dtype='object')"
      ]
     },
     "execution_count": 4,
     "metadata": {},
     "output_type": "execute_result"
    }
   ],
   "source": [
    "dFrame.columns"
   ]
  },
  {
   "cell_type": "code",
   "execution_count": 5,
   "metadata": {},
   "outputs": [],
   "source": [
    "dFrame = dFrame[['Created Date', 'Closed Date', 'Agency', 'Agency Name', 'Complaint Type', 'Descriptor', 'Latitude', 'Longitude']]"
   ]
  },
  {
   "cell_type": "code",
   "execution_count": 6,
   "metadata": {},
   "outputs": [
    {
     "data": {
      "text/html": [
       "<div>\n",
       "<style scoped>\n",
       "    .dataframe tbody tr th:only-of-type {\n",
       "        vertical-align: middle;\n",
       "    }\n",
       "\n",
       "    .dataframe tbody tr th {\n",
       "        vertical-align: top;\n",
       "    }\n",
       "\n",
       "    .dataframe thead th {\n",
       "        text-align: right;\n",
       "    }\n",
       "</style>\n",
       "<table border=\"1\" class=\"dataframe\">\n",
       "  <thead>\n",
       "    <tr style=\"text-align: right;\">\n",
       "      <th></th>\n",
       "      <th>Created Date</th>\n",
       "      <th>Closed Date</th>\n",
       "      <th>Agency</th>\n",
       "      <th>Agency Name</th>\n",
       "      <th>Complaint Type</th>\n",
       "      <th>Descriptor</th>\n",
       "      <th>Latitude</th>\n",
       "      <th>Longitude</th>\n",
       "    </tr>\n",
       "  </thead>\n",
       "  <tbody>\n",
       "    <tr>\n",
       "      <th>0</th>\n",
       "      <td>05/17/2018 09:48:00 PM</td>\n",
       "      <td>05/22/2018 12:00:00 AM</td>\n",
       "      <td>DSNY</td>\n",
       "      <td>Department of Sanitation</td>\n",
       "      <td>Request Large Bulky Item Collection</td>\n",
       "      <td>Request Large Bulky Item Collection</td>\n",
       "      <td>40.762567</td>\n",
       "      <td>-73.802527</td>\n",
       "    </tr>\n",
       "    <tr>\n",
       "      <th>1</th>\n",
       "      <td>05/17/2018 06:21:00 PM</td>\n",
       "      <td>05/22/2018 12:00:00 AM</td>\n",
       "      <td>DSNY</td>\n",
       "      <td>Department of Sanitation</td>\n",
       "      <td>Request Large Bulky Item Collection</td>\n",
       "      <td>Request Large Bulky Item Collection</td>\n",
       "      <td>40.702336</td>\n",
       "      <td>-73.903409</td>\n",
       "    </tr>\n",
       "    <tr>\n",
       "      <th>2</th>\n",
       "      <td>06/29/2018 11:40:16 AM</td>\n",
       "      <td>07/23/2018 07:45:30 AM</td>\n",
       "      <td>DOF</td>\n",
       "      <td>Personal Exemption Unit</td>\n",
       "      <td>DOF Property - Reduction Issue</td>\n",
       "      <td>Personal SCHE Exemption</td>\n",
       "      <td>NaN</td>\n",
       "      <td>NaN</td>\n",
       "    </tr>\n",
       "    <tr>\n",
       "      <th>3</th>\n",
       "      <td>05/17/2018 09:32:30 AM</td>\n",
       "      <td>05/23/2018 07:09:35 PM</td>\n",
       "      <td>HPD</td>\n",
       "      <td>Department of Housing Preservation and Develop...</td>\n",
       "      <td>SAFETY</td>\n",
       "      <td>FIRE ESCAPE</td>\n",
       "      <td>40.777004</td>\n",
       "      <td>-73.977852</td>\n",
       "    </tr>\n",
       "    <tr>\n",
       "      <th>4</th>\n",
       "      <td>04/16/2014 11:03:20 AM</td>\n",
       "      <td>04/16/2014 09:10:07 PM</td>\n",
       "      <td>NYPD</td>\n",
       "      <td>New York City Police Department</td>\n",
       "      <td>Illegal Parking</td>\n",
       "      <td>Blocked Hydrant</td>\n",
       "      <td>40.791687</td>\n",
       "      <td>-73.974608</td>\n",
       "    </tr>\n",
       "  </tbody>\n",
       "</table>\n",
       "</div>"
      ],
      "text/plain": [
       "             Created Date             Closed Date Agency  \\\n",
       "0  05/17/2018 09:48:00 PM  05/22/2018 12:00:00 AM   DSNY   \n",
       "1  05/17/2018 06:21:00 PM  05/22/2018 12:00:00 AM   DSNY   \n",
       "2  06/29/2018 11:40:16 AM  07/23/2018 07:45:30 AM    DOF   \n",
       "3  05/17/2018 09:32:30 AM  05/23/2018 07:09:35 PM    HPD   \n",
       "4  04/16/2014 11:03:20 AM  04/16/2014 09:10:07 PM   NYPD   \n",
       "\n",
       "                                         Agency Name  \\\n",
       "0                           Department of Sanitation   \n",
       "1                           Department of Sanitation   \n",
       "2                            Personal Exemption Unit   \n",
       "3  Department of Housing Preservation and Develop...   \n",
       "4                    New York City Police Department   \n",
       "\n",
       "                        Complaint Type                           Descriptor  \\\n",
       "0  Request Large Bulky Item Collection  Request Large Bulky Item Collection   \n",
       "1  Request Large Bulky Item Collection  Request Large Bulky Item Collection   \n",
       "2       DOF Property - Reduction Issue              Personal SCHE Exemption   \n",
       "3                               SAFETY                          FIRE ESCAPE   \n",
       "4                      Illegal Parking                      Blocked Hydrant   \n",
       "\n",
       "    Latitude  Longitude  \n",
       "0  40.762567 -73.802527  \n",
       "1  40.702336 -73.903409  \n",
       "2        NaN        NaN  \n",
       "3  40.777004 -73.977852  \n",
       "4  40.791687 -73.974608  "
      ]
     },
     "execution_count": 6,
     "metadata": {},
     "output_type": "execute_result"
    }
   ],
   "source": [
    "dFrame.head()"
   ]
  },
  {
   "cell_type": "code",
   "execution_count": 7,
   "metadata": {},
   "outputs": [],
   "source": [
    "dFrame = dFrame[ (dFrame['Agency'] == 'NYPD') | ((dFrame['Agency'] == 'DEP') & (dFrame['Complaint Type'] == 'Noise'))]\n",
    "dFrame = dFrame.apply(lambda row: searchForNoiseNYPD(row), axis=1)\n",
    "dFrame = dFrame.dropna(subset=['Complaint Type'])\n",
    "dFrame = dFrame[['Created Date', 'Closed Date', 'Descriptor', 'Latitude', 'Longitude']]\n",
    "dFrame = dFrame.dropna()"
   ]
  },
  {
   "cell_type": "code",
   "execution_count": 8,
   "metadata": {},
   "outputs": [],
   "source": [
    "dFrame['datetime'] = pd.to_datetime(dFrame['Created Date'])\n",
    "dFrame = dFrame.set_index(['datetime'])\n",
    "dFrame.sort_index(inplace=True)"
   ]
  },
  {
   "cell_type": "code",
   "execution_count": 26,
   "metadata": {},
   "outputs": [],
   "source": [
    "dFrame.to_pickle('../../data/311/311.pkl')"
   ]
  },
  {
   "cell_type": "markdown",
   "metadata": {},
   "source": [
    "## Spatial Filtering"
   ]
  },
  {
   "cell_type": "code",
   "execution_count": 15,
   "metadata": {},
   "outputs": [],
   "source": [
    "dFrame['geometry'] = dFrame.apply(lambda row: shapely.geometry.Point((row['Longitude'], row['Latitude'])), axis=1)\n",
    "noiseComplaints_geodf = gpd.GeoDataFrame(dFrame, crs={'init' : 'epsg:4326'}, geometry='geometry')\n",
    "noiseComplaints_geodf = noiseComplaints_geodf.to_crs({'init':'epsg:3857'})\n",
    "# noiseComplaints_geodf = noiseComplaints_geodf['2017-12-01':'2019-05-01']"
   ]
  },
  {
   "cell_type": "code",
   "execution_count": 16,
   "metadata": {},
   "outputs": [],
   "source": [
    "### Consts\n",
    "datapath = '../../rawdata/sensors/'\n",
    "sensorFile = datapath + 'nodes.txt'\n",
    "\n",
    "f = open(sensorFile)\n",
    "\n",
    "for line in f:\n",
    "    \n",
    "    sensorID, lat, lon = line.split(' ')\n",
    "    \n",
    "    lat = float(lat)\n",
    "    lon = float(lon)\n",
    "    \n",
    "    sensorDF = spatialJoin(noiseComplaints_geodf, lat, lon)\n",
    "    sensorDF.to_csv('./spatialFilter/' + sensorID + '.csv')\n",
    "    \n",
    "f.close()"
   ]
  },
  {
   "cell_type": "markdown",
   "metadata": {},
   "source": [
    "## Visualizing 311 Records"
   ]
  },
  {
   "cell_type": "code",
   "execution_count": 12,
   "metadata": {
    "scrolled": true
   },
   "outputs": [],
   "source": [
    "### Consts\n",
    "datapath = '../../rawdata/sensors/'\n",
    "sensorFile = datapath + 'nodes.txt'\n",
    "\n",
    "f = open(sensorFile)\n",
    "\n",
    "m = folium.Map(\n",
    "    location=[40.73089125, -73.99758503833021],\n",
    "    tiles='Stamen Toner',\n",
    "    zoom_start=16\n",
    ")\n",
    "\n",
    "test = None\n",
    "\n",
    "for line in f:\n",
    "    \n",
    "    sensorID, lat, lon = line.split(' ')\n",
    "    \n",
    "    lat = float(lat)\n",
    "    lon = float(lon)\n",
    "    \n",
    "    filteredDF = pd.read_csv('./spatialFilter/' + sensorID + '.csv')\n",
    "    filteredDF['count'] = 1\n",
    "    \n",
    "    test = filteredDF\n",
    "    \n",
    "    \n",
    "    \n",
    "    \n",
    "#     folium.Circle(\n",
    "#         radius=200,\n",
    "#         location=[lat, lon],\n",
    "#         popup='The Waterfront',\n",
    "#         color='crimson',\n",
    "#         fill=False,\n",
    "#     ).add_to(m)\n",
    "    \n",
    "#     HeatMap(data=filteredDF[['Latitude', 'Longitude', 'count']].groupby(['Latitude', 'Longitude']).sum().reset_index().values.tolist(), radius=8, max_zoom=13).add_to(m)\n",
    "    \n",
    "#     display(m)"
   ]
  },
  {
   "cell_type": "code",
   "execution_count": 13,
   "metadata": {},
   "outputs": [],
   "source": [
    "test = test.rename(columns={'Unnamed: 0' : 'datetime'})\n",
    "test = test[['Created Date', 'datetime']]\n",
    "test['datetime'] = pd.to_datetime(test['datetime'])"
   ]
  },
  {
   "cell_type": "code",
   "execution_count": 14,
   "metadata": {},
   "outputs": [],
   "source": [
    "test = test.set_index('datetime')"
   ]
  },
  {
   "cell_type": "code",
   "execution_count": 16,
   "metadata": {},
   "outputs": [],
   "source": [
    "test = test.resample('H').agg({'Created Date': 'count'})"
   ]
  },
  {
   "cell_type": "code",
   "execution_count": 19,
   "metadata": {},
   "outputs": [],
   "source": [
    "test = test['2018-01-01':'2018-12-31']"
   ]
  },
  {
   "cell_type": "code",
   "execution_count": 21,
   "metadata": {},
   "outputs": [
    {
     "data": {
      "text/plain": [
       "<matplotlib.axes._subplots.AxesSubplot at 0x7f0a87525160>"
      ]
     },
     "execution_count": 21,
     "metadata": {},
     "output_type": "execute_result"
    },
    {
     "data": {
      "image/png": "[encoded data removed]",
      "text/plain": [
       "<matplotlib.figure.Figure at 0x7f0a87686c50>"
      ]
     },
     "metadata": {},
     "output_type": "display_data"
    }
   ],
   "source": [
    "test.plot()"
   ]
  },
  {
   "cell_type": "markdown",
   "metadata": {},
   "source": [
    "## Helper Functions"
   ]
  },
  {
   "cell_type": "code",
   "execution_count": 10,
   "metadata": {},
   "outputs": [],
   "source": [
    "def searchForNoiseNYPD(row):\n",
    "    if(row['Agency'] == 'NYPD'):\n",
    "        complaint_type = row['Complaint Type']\n",
    "        if('Noise' not in complaint_type):\n",
    "            row['Complaint Type'] = np.nan\n",
    "    return row\n",
    "\n",
    "def spatialJoin(geoDataframe, lat, lon):\n",
    "    d = 200 # meters\n",
    "    n_points = 20\n",
    "    angles = np.linspace(0, 360, n_points)\n",
    "    center = shapely.geometry.Point(lon,lat)\n",
    "    polygon = Polygon(geog.propagate(center, angles, d))\n",
    "    \n",
    "    sinpoly = gpd.GeoDataFrame(crs={'init': 'epsg:4326'})\n",
    "    sinpoly = sinpoly.append({'geometry': polygon}, ignore_index=True) \n",
    "    sinpoly = sinpoly.to_crs({'init':'epsg:3857'})\n",
    "    \n",
    "    dataframe = gpd.tools.sjoin(geoDataframe, sinpoly, how='inner', op=\"within\")\n",
    "    \n",
    "    return dataframe\n",
    "\n",
    "    "
   ]
  }
 ],
 "metadata": {
  "kernelspec": {
   "display_name": "Python 3",
   "language": "python",
   "name": "python3"
  },
  "language_info": {
   "codemirror_mode": {
    "name": "ipython",
    "version": 3
   },
   "file_extension": ".py",
   "mimetype": "text/x-python",
   "name": "python",
   "nbconvert_exporter": "python",
   "pygments_lexer": "ipython3",
   "version": "3.6.8"
  }
 },
 "nbformat": 4,
 "nbformat_minor": 2
}
