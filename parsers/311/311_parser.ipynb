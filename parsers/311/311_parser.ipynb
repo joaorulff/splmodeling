{
 "cells": [
  {
   "cell_type": "code",
   "execution_count": 16,
   "metadata": {},
   "outputs": [],
   "source": [
    "import pandas as pd\n",
    "import numpy as np\n",
    "import matplotlib.pyplot as plt\n",
    "import shapely\n",
    "from shapely.geometry import Point\n",
    "from shapely.geometry import Polygon\n",
    "import geopandas as gpd"
   ]
  },
  {
   "cell_type": "code",
   "execution_count": 2,
   "metadata": {},
   "outputs": [],
   "source": [
    "def searchForNoiseNYPD(row):\n",
    "    if(row['Agency'] == 'NYPD'):\n",
    "        complaint_type = row['Complaint Type']\n",
    "        if('Noise' not in complaint_type):\n",
    "            row['Complaint Type'] = np.nan\n",
    "    return row"
   ]
  },
  {
   "cell_type": "code",
   "execution_count": 3,
   "metadata": {},
   "outputs": [
    {
     "name": "stderr",
     "output_type": "stream",
     "text": [
      "/home/jlrulff/anaconda3/lib/python3.6/site-packages/IPython/core/interactiveshell.py:2728: DtypeWarning: Columns (8,17,31,32,33,34,35,36,37) have mixed types. Specify dtype option on import or set low_memory=False.\n",
      "  interactivity=interactivity, compiler=compiler, result=result)\n"
     ]
    }
   ],
   "source": [
    "dFrame = pd.read_csv('../../rawdata/311/311.csv')"
   ]
  },
  {
   "cell_type": "code",
   "execution_count": 4,
   "metadata": {},
   "outputs": [],
   "source": [
    "dFrame = dFrame[['Created Date', 'Closed Date', 'Agency', 'Agency Name', 'Complaint Type', 'Descriptor', 'Latitude', 'Longitude']]"
   ]
  },
  {
   "cell_type": "code",
   "execution_count": 5,
   "metadata": {},
   "outputs": [],
   "source": [
    "dFrame = dFrame[ (dFrame['Agency'] == 'NYPD') | ((dFrame['Agency'] == 'DEP') & (dFrame['Complaint Type'] == 'Noise'))]\n",
    "dFrame = dFrame.apply(lambda row: searchForNoiseNYPD(row), axis=1)\n",
    "dFrame = dFrame.dropna(subset=['Complaint Type'])\n",
    "dFrame = dFrame[['Created Date', 'Closed Date', 'Descriptor', 'Latitude', 'Longitude']]\n",
    "dFrame = dFrame.dropna()"
   ]
  },
  {
   "cell_type": "code",
   "execution_count": 6,
   "metadata": {},
   "outputs": [],
   "source": [
    "dFrame['datetime'] = pd.to_datetime(dFrame['Created Date'])\n",
    "dFrame = dFrame.set_index(['datetime'])\n",
    "dFrame.sort_index(inplace=True)"
   ]
  },
  {
   "cell_type": "code",
   "execution_count": 26,
   "metadata": {},
   "outputs": [],
   "source": [
    "dFrame.to_pickle('../../data/311/311.pkl')"
   ]
  },
  {
   "cell_type": "markdown",
   "metadata": {},
   "source": [
    "## Creating geodataframe of the dataset"
   ]
  },
  {
   "cell_type": "code",
   "execution_count": 13,
   "metadata": {},
   "outputs": [],
   "source": [
    "dFrame['geometry'] = dFrame.apply(lambda row: shapely.geometry.Point((row['Longitude'], row['Latitude'])), axis=1)"
   ]
  },
  {
   "cell_type": "code",
   "execution_count": 17,
   "metadata": {},
   "outputs": [],
   "source": [
    "noiseComplaints_geodf = gpd.GeoDataFrame(dFrame, crs={'init' : 'epsg:4326'}, geometry='geometry')"
   ]
  },
  {
   "cell_type": "code",
   "execution_count": 23,
   "metadata": {},
   "outputs": [],
   "source": [
    "noiseComplaints_geodf = noiseComplaints_geodf['2017-12-01':'2019-01-01']"
   ]
  },
  {
   "cell_type": "code",
   "execution_count": 19,
   "metadata": {},
   "outputs": [],
   "source": [
    "noiseComplaints_geodf.to_file('../../data/311/311_geo')"
   ]
  }
 ],
 "metadata": {
  "kernelspec": {
   "display_name": "Python 3",
   "language": "python",
   "name": "python3"
  },
  "language_info": {
   "codemirror_mode": {
    "name": "ipython",
    "version": 3
   },
   "file_extension": ".py",
   "mimetype": "text/x-python",
   "name": "python",
   "nbconvert_exporter": "python",
   "pygments_lexer": "ipython3",
   "version": "3.6.8"
  }
 },
 "nbformat": 4,
 "nbformat_minor": 2
}
