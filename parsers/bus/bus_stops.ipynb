{
 "cells": [
  {
   "cell_type": "code",
   "execution_count": 1,
   "metadata": {},
   "outputs": [],
   "source": [
    "import pandas as pd\n",
    "import numpy as np\n",
    "import geopandas as gpd\n",
    "import glob\n",
    "from IPython.display import clear_output"
   ]
  },
  {
   "cell_type": "code",
   "execution_count": 2,
   "metadata": {},
   "outputs": [],
   "source": [
    "stops = gpd.read_file('zip://../../rawdata/bus/bus_stops_nyc_nov2018.zip')\n",
    "routes = gpd.read_file('zip://../../rawdata/bus/bus_routes_nyc_nov2018.zip')"
   ]
  },
  {
   "cell_type": "code",
   "execution_count": 3,
   "metadata": {},
   "outputs": [],
   "source": [
    "files = glob.glob('../../rawdata/bus/mtabus-data/2018/0*[1-5]*/*')"
   ]
  },
  {
   "cell_type": "code",
   "execution_count": 4,
   "metadata": {},
   "outputs": [],
   "source": [
    "dataframe = pd.DataFrame()\n",
    "nFiles = len(files)\n",
    "for file in files:\n",
    "    print('Remaining Files: ', nFiles)\n",
    "    daily_pings = pd.read_csv(file)\n",
    "    daily_pings = daily_pings[['timestamp', 'latitude', 'longitude']]\n",
    "    dataframe = dataframe.append(daily_pings)\n",
    "    nFiles = nFiles - 1\n",
    "    clear_output()"
   ]
  },
  {
   "cell_type": "code",
   "execution_count": 6,
   "metadata": {},
   "outputs": [],
   "source": [
    "dataframe['timestamp'] = pd.to_datetime(dataframe['timestamp'])\n",
    "dataframe['timestamp'] = dataframe['timestamp'].dt.tz_convert('US/Eastern')\n",
    "dataframe['timestamp'] = dataframe['timestamp'].dt.tz_localize(None)\n",
    "dataframe.set_index(['timestamp'], inplace=True)"
   ]
  },
  {
   "cell_type": "code",
   "execution_count": 7,
   "metadata": {},
   "outputs": [],
   "source": [
    "dataframe.sort_index(ascending=True, inplace=True)"
   ]
  },
  {
   "cell_type": "code",
   "execution_count": 9,
   "metadata": {},
   "outputs": [],
   "source": [
    "dataframe.to_pickle('../../data/bus/bus.pkl')"
   ]
  }
 ],
 "metadata": {
  "kernelspec": {
   "display_name": "Python 3",
   "language": "python",
   "name": "python3"
  },
  "language_info": {
   "codemirror_mode": {
    "name": "ipython",
    "version": 3
   },
   "file_extension": ".py",
   "mimetype": "text/x-python",
   "name": "python",
   "nbconvert_exporter": "python",
   "pygments_lexer": "ipython3",
   "version": "3.6.8"
  }
 },
 "nbformat": 4,
 "nbformat_minor": 2
}
