{
 "cells": [
  {
   "cell_type": "code",
   "execution_count": null,
   "metadata": {},
   "outputs": [],
   "source": [
    "import pandas as pd\n",
    "import numpy as np\n",
    "import geopandas as gpd\n",
    "import glob\n",
    "from shapely.geometry import Point\n",
    "from shapely.geometry import Polygon\n",
    "import shapely\n",
    "from IPython.display import clear_output\n",
    "import geog\n",
    "from folium.plugins import HeatMap\n",
    "import folium\n",
    "from pandas import Series\n",
    "from matplotlib import pyplot"
   ]
  },
  {
   "cell_type": "code",
   "execution_count": null,
   "metadata": {},
   "outputs": [],
   "source": [
    "files = glob.glob('../../rawdata/bus/mtabus-data/2018/0*[1-5]*/*')"
   ]
  },
  {
   "cell_type": "code",
   "execution_count": null,
   "metadata": {},
   "outputs": [],
   "source": [
    "nFiles = len(files)\n",
    "bus_geodf = gpd.GeoDataFrame()\n",
    "\n",
    "for file in files:\n",
    "    print('Remaining Files: ', nFiles)\n",
    "    \n",
    "    ## reading as a dataframe\n",
    "    daily_pings = pd.read_csv(file)\n",
    "    daily_pings = daily_pings[['timestamp', 'latitude', 'longitude']]\n",
    "    daily_pings = daily_pings.dropna()\n",
    "    \n",
    "    \n",
    "    ## transforming in geodataframe\n",
    "    bus_geoDF_current = gpd.GeoDataFrame(daily_pings, crs={'init': 'epsg:4326'})\n",
    "    bus_geoDF_current['geometry'] = bus_geoDF_current.apply(lambda row: shapely.geometry.Point((row['longitude'], row['latitude'])), axis=1)\n",
    "    bus_geoDF_current = bus_geoDF_current.to_crs({'init':'epsg:3857'})\n",
    "    \n",
    "    ## appending to final geodf\n",
    "    bus_geodf = bus_geodf.append(bus_geoDF_current)\n",
    "    \n",
    "    ## logging\n",
    "    nFiles = nFiles - 1\n",
    "    clear_output()"
   ]
  },
  {
   "cell_type": "code",
   "execution_count": null,
   "metadata": {},
   "outputs": [],
   "source": [
    "bus_geodf['timestamp'] = pd.to_datetime(bus_geodf['timestamp'])\n",
    "bus_geodf['timestamp'] = bus_geodf['timestamp'].dt.tz_convert('US/Eastern')\n",
    "bus_geodf['timestamp'] = bus_geodf['timestamp'].dt.tz_localize(None)"
   ]
  },
  {
   "cell_type": "code",
   "execution_count": null,
   "metadata": {},
   "outputs": [],
   "source": [
    "### Consts\n",
    "datapath = '../../rawdata/sensors/'\n",
    "filename = datapath + 'nodes.txt'\n",
    "\n",
    "# Load sensors\n",
    "selectedsensors = [ \n",
    "                    \"sonycnode-b827eb0fedda.sonyc\",\n",
    "                    \"sonycnode-b827eb42bd4a.sonyc\",\n",
    "                    \"sonycnode-b827eb44506f.sonyc\",\n",
    "                    \"sonycnode-b827eb73e772.sonyc\",\n",
    "                    \"sonycnode-b827eb84deb5.sonyc\",\n",
    "                    \"sonycnode-b827ebb40450.sonyc\"]\n",
    "\n",
    "f = open(filename)\n",
    "sensors = {}\n",
    "\n",
    "for line in f:\n",
    "    s, lat, lon = line.split(' ')\n",
    "    if s in selectedsensors:\n",
    "        \n",
    "        print('Spatial join for sensor: ', s)\n",
    "        \n",
    "        lat = float(lat)\n",
    "        lon = float(lon)\n",
    "        \n",
    "        joinedDF = spatialJoin(bus_geodf, lat, lon)\n",
    "        joinedDF.set_index('timestamp', inplace=True)\n",
    "        \n",
    "        if(joinedDF.shape[0] == 0):\n",
    "            print('logging: FAILED!!!!')\n",
    "            print('SENSORID: ', s)\n",
    "        else:\n",
    "            print('logging: SUCCESS!!!!')\n",
    "            joinedDF.to_file('./files/' + s + \"_bus.shp\")\n",
    "            "
   ]
  },
  {
   "cell_type": "code",
   "execution_count": null,
   "metadata": {},
   "outputs": [],
   "source": [
    "def spatialJoin(geoDataframe, lat, lon):\n",
    "    d = 400 # meters\n",
    "    n_points = 20\n",
    "    angles = np.linspace(0, 360, n_points)\n",
    "    center = shapely.geometry.Point(lon,lat)\n",
    "    polygon = Polygon(geog.propagate(center, angles, d))\n",
    "    \n",
    "    sinpoly = gpd.GeoDataFrame(crs={'init': 'epsg:4326'})\n",
    "    sinpoly = sinpoly.append({'geometry': polygon}, ignore_index=True) \n",
    "    sinpoly = sinpoly.to_crs({'init':'epsg:3857'})\n",
    "    \n",
    "    dataframe = gpd.tools.sjoin(geoDataframe, sinpoly, how='inner', op=\"within\")\n",
    "    \n",
    "    return dataframe"
   ]
  },
  {
   "cell_type": "code",
   "execution_count": null,
   "metadata": {},
   "outputs": [],
   "source": [
    "# bus_geodf['timestamp_original'] = pd.to_datetime(bus_geodf['timestamp'])\n",
    "\n",
    "# bus_geodf['timestamp_us'] = pd.to_datetime(bus_geodf['timestamp'])\n",
    "# bus_geodf['timestamp_us'] = bus_geodf['timestamp_us'].dt.tz_convert('US/Eastern')\n",
    "\n",
    "# bus_geodf['timestamp_us_plus'] = pd.to_datetime(bus_geodf['timestamp'])\n",
    "# bus_geodf['timestamp_us_plus'] = bus_geodf['timestamp_us_plus'].dt.tz_convert('US/Eastern')\n",
    "# bus_geodf['timestamp_us_plus'] = bus_geodf['timestamp_us_plus'].dt.tz_localize(None)\n",
    "\n",
    "# ## case 1\n",
    "# case1 = joined.copy()\n",
    "# case1.set_index(['timestamp_original'], inplace=True)\n",
    "# case1.sort_index(ascending=True, inplace=True)\n",
    "\n",
    "# ## case 2\n",
    "# case2 = joined.copy()\n",
    "# case2.set_index(['timestamp_us'], inplace=True)\n",
    "# case2.sort_index(ascending=True, inplace=True)\n",
    "\n",
    "# ## case 3\n",
    "# case3 = joined.copy()\n",
    "# case3.set_index(['timestamp_us_plus'], inplace=True)\n",
    "# case3.sort_index(ascending=True, inplace=True)"
   ]
  }
 ],
 "metadata": {
  "kernelspec": {
   "display_name": "Python 3",
   "language": "python",
   "name": "python3"
  },
  "language_info": {
   "codemirror_mode": {
    "name": "ipython",
    "version": 3
   },
   "file_extension": ".py",
   "mimetype": "text/x-python",
   "name": "python",
   "nbconvert_exporter": "python",
   "pygments_lexer": "ipython3",
   "version": "3.6.8"
  }
 },
 "nbformat": 4,
 "nbformat_minor": 2
}
