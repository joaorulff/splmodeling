{
 "cells": [
  {
   "cell_type": "markdown",
   "metadata": {
    "heading_collapsed": true
   },
   "source": [
    "## Imports"
   ]
  },
  {
   "cell_type": "code",
   "execution_count": 91,
   "metadata": {
    "hidden": true
   },
   "outputs": [],
   "source": [
    "import pandas as pd\n",
    "import numpy as np\n",
    "import geopandas as gpd\n",
    "import geopy.distance\n",
    "import matplotlib.pyplot as plt\n",
    "from shapely.geometry import Point\n",
    "import shapely\n",
    "\n",
    "from sklearn.model_selection import train_test_split\n",
    "from sklearn.ensemble import RandomForestRegressor\n",
    "from sklearn.ensemble import RandomForestClassifier\n",
    "from sklearn.metrics import mean_squared_error, r2_score\n",
    "from sklearn.preprocessing import MinMaxScaler\n",
    "from sklearn.model_selection import StratifiedShuffleSplit\n",
    "from sklearn.model_selection import RandomizedSearchCV\n",
    "from sklearn.model_selection import KFold\n",
    "\n",
    "\n",
    "from scipy import stats\n",
    "from sklearn import metrics\n",
    "import folium\n",
    "\n",
    "import math\n",
    "\n",
    "from descartes import PolygonPatch\n",
    "import altair as alt\n",
    "\n",
    "from pprint import pprint\n",
    "\n",
    "# for the notebook only (not for JupyterLab) run this command once per session\n",
    "alt.renderers.enable('notebook')\n",
    "\n",
    "import warnings\n",
    "warnings.filterwarnings('ignore')"
   ]
  },
  {
   "cell_type": "markdown",
   "metadata": {
    "heading_collapsed": true
   },
   "source": [
    "## Defining Paths"
   ]
  },
  {
   "cell_type": "code",
   "execution_count": 92,
   "metadata": {
    "hidden": true
   },
   "outputs": [],
   "source": [
    "### Consts\n",
    "datapath = '../rawdata/sensors/'\n",
    "metadata_file = datapath + 'nodes.txt'"
   ]
  },
  {
   "cell_type": "markdown",
   "metadata": {
    "heading_collapsed": true
   },
   "source": [
    "## Loading external datasets"
   ]
  },
  {
   "cell_type": "code",
   "execution_count": 93,
   "metadata": {
    "hidden": true
   },
   "outputs": [],
   "source": [
    "## loading 311\n",
    "noiseComplaints = pd.read_pickle('../data/311/311.pkl')\n",
    "\n",
    "## loading taxi\n",
    "taxi = pd.read_pickle('../data/taxi/taxi.pkl')\n",
    "## loading taxi regions\n",
    "taxi_regions = gpd.read_file('zip://../assets/taxi_zones.zip')\n",
    "taxi_regions = taxi_regions.to_crs({'init':'epsg:3857'})\n",
    "\n",
    "## loading wind speed\n",
    "windSpeed = pd.read_pickle('../data/weather/wind.pkl')\n",
    "windSpeed = windSpeed.resample('H').agg({'Spd[Wind]': 'mean'})\n",
    "\n",
    "## loading precipitation\n",
    "precipitation = pd.read_pickle('../data/weather/precipitation.pkl')\n",
    "precipitation = precipitation.resample('H').agg({'Amt[PrecipHourly1]': 'mean'})"
   ]
  },
  {
   "cell_type": "markdown",
   "metadata": {
    "heading_collapsed": true
   },
   "source": [
    "## Defining intersection between datasets"
   ]
  },
  {
   "cell_type": "code",
   "execution_count": 94,
   "metadata": {
    "hidden": true
   },
   "outputs": [
    {
     "name": "stdout",
     "output_type": "stream",
     "text": [
      "311 Range:  2010-01-01 00:03:46 ---- 2019-01-28 02:11:59\n",
      "Taxi Range:  2017-01-01 00:00:00 ---- 2018-07-01 23:46:41\n",
      "Wind Speed Range:  2010-01-01 01:00:00 ---- 2018-04-02 00:00:00\n",
      "Rain Precipitation Range:  2010-01-01 01:00:00 ---- 2018-04-02 00:00:00\n",
      "Largest Intersection:  2017-01-01 00:00:00 ---- 2018-04-02 00:00:00\n"
     ]
    }
   ],
   "source": [
    "noiseComplaints_start, noiseComplaints_end = noiseComplaints.index[0], noiseComplaints.index[-1]\n",
    "taxi_start, taxi_end = taxi.index[0], taxi.index[-1]\n",
    "windSpeed_start, windSpeed_end = windSpeed.index[0], windSpeed.index[-1]\n",
    "precipitation_start, precipitation_end = precipitation.index[0], precipitation.index[-1]\n",
    "\n",
    "## Calculating the largest intersection\n",
    "intersection_start = max(noiseComplaints_start, taxi_start, windSpeed_start, precipitation_start)\n",
    "intersection_end = min(noiseComplaints_end, taxi_end, windSpeed_end, precipitation_end)\n",
    "\n",
    "print('311 Range: ', noiseComplaints_start, '----', noiseComplaints_end)\n",
    "print('Taxi Range: ', taxi_start, '----', taxi_end)\n",
    "print('Wind Speed Range: ', windSpeed_start,'----', windSpeed_end)\n",
    "print('Rain Precipitation Range: ', precipitation_start,'----', precipitation_end)\n",
    "print('Largest Intersection: ', intersection_start,'----', intersection_end)"
   ]
  },
  {
   "cell_type": "markdown",
   "metadata": {},
   "source": [
    "## Filtering sensor in manhattan"
   ]
  },
  {
   "cell_type": "code",
   "execution_count": 28,
   "metadata": {},
   "outputs": [],
   "source": [
    "sensors_geodf = gpd.GeoDataFrame(crs={'init': 'epsg:4326'})\n",
    "\n",
    "f = open(metadata_file)\n",
    "for line in f:\n",
    "    s, lat, lon = line.split(' ')\n",
    "    \n",
    "    lat = float(lat)\n",
    "    lon = float(lon)\n",
    "    \n",
    "    ## adding sensor to geodataframe\n",
    "    sensor_point = shapely.geometry.Point(lon, lat)\n",
    "    sensors_geodf = sensors_geodf.append({'sensorID': s, 'geometry':sensor_point}, ignore_index=True)\n",
    "\n",
    "# ## closing file\n",
    "f.close()\n",
    "    \n",
    "sensors_geodf = sensors_geodf.to_crs({'init':'epsg:3857'})\n",
    "\n",
    "# ## join taxi regions with sensors\n",
    "manhattan_regions = taxi_regions[taxi_regions['borough'] == 'Manhattan']\n",
    "manhattan_sensors = gpd.tools.sjoin(sensors_geodf, manhattan_regions, how='inner', op=\"within\")"
   ]
  },
  {
   "cell_type": "code",
   "execution_count": 124,
   "metadata": {},
   "outputs": [
    {
     "name": "stdout",
     "output_type": "stream",
     "text": [
      "-----------------------------------\n",
      "SensorID:  sonycnode-b827eb0d8af7.sonyc\n",
      "(2185, 1)\n",
      "dbas    1\n",
      "dtype: int64\n",
      "-----------------------------------\n",
      "-----------------------------------\n",
      "SensorID:  sonycnode-b827eb0fedda.sonyc\n",
      "(2185, 1)\n",
      "dbas    1\n",
      "dtype: int64\n",
      "-----------------------------------\n",
      "-----------------------------------\n",
      "SensorID:  sonycnode-b827eb132382.sonyc\n",
      "(2185, 1)\n",
      "dbas    1\n",
      "dtype: int64\n",
      "-----------------------------------\n",
      "-----------------------------------\n",
      "SensorID:  sonycnode-b827eb2a1bce.sonyc\n",
      "(2185, 1)\n",
      "dbas    1\n",
      "dtype: int64\n",
      "-----------------------------------\n",
      "-----------------------------------\n",
      "SensorID:  sonycnode-b827eb3e842e.sonyc\n",
      "(2185, 1)\n",
      "dbas    1\n",
      "dtype: int64\n",
      "-----------------------------------\n",
      "-----------------------------------\n",
      "SensorID:  sonycnode-b827eb44506f.sonyc\n",
      "(2185, 1)\n",
      "dbas    1\n",
      "dtype: int64\n",
      "-----------------------------------\n",
      "-----------------------------------\n",
      "SensorID:  sonycnode-b827eb815321.sonyc\n",
      "(2185, 1)\n",
      "dbas    1\n",
      "dtype: int64\n",
      "-----------------------------------\n",
      "-----------------------------------\n",
      "SensorID:  sonycnode-b827eb8e32ad.sonyc\n",
      "(1980, 1)\n",
      "dbas    1\n",
      "dtype: int64\n",
      "-----------------------------------\n",
      "-----------------------------------\n",
      "SensorID:  sonycnode-b827ebb40450.sonyc\n",
      "(2185, 1)\n",
      "dbas    1\n",
      "dtype: int64\n",
      "-----------------------------------\n",
      "-----------------------------------\n",
      "SensorID:  sonycnode-b827ebc6dcc6.sonyc\n",
      "(2185, 1)\n",
      "dbas    1\n",
      "dtype: int64\n",
      "-----------------------------------\n"
     ]
    }
   ],
   "source": [
    "distributions = {}\n",
    "\n",
    "selected_sensors = [\n",
    "    'sonycnode-b827eb0d8af7.sonyc',\n",
    "    'sonycnode-b827eb0fedda.sonyc',\n",
    "    'sonycnode-b827eb132382.sonyc',\n",
    "    'sonycnode-b827eb2a1bce.sonyc',\n",
    "    'sonycnode-b827eb3e842e.sonyc',\n",
    "    'sonycnode-b827eb44506f.sonyc',\n",
    "    'sonycnode-b827eb815321.sonyc',\n",
    "    'sonycnode-b827eb8e32ad.sonyc',\n",
    "    'sonycnode-b827ebb40450.sonyc',\n",
    "    'sonycnode-b827ebc6dcc6.sonyc']\n",
    "\n",
    "f = open(metadata_file)\n",
    "for line in f:\n",
    "    \n",
    "    # reading sensor metadata\n",
    "    sensorID, lat, lon = line.split(' ')\n",
    "    lat = float(lat)\n",
    "    lon = float(lon)\n",
    "    \n",
    "    if sensorID in selected_sensors:\n",
    "        \n",
    "        current_location = manhattan_sensors[manhattan_sensors['sensorID'] == sensorID]['LocationID'].values[0]\n",
    "        \n",
    "        # loading sensor data\n",
    "        sensorData = pd.read_pickle(datapath +sensorID+ '.pkl')\n",
    "        sensorData.sort_index(ascending=True, inplace=True)\n",
    "        \n",
    "        # calculating the intersection with the external datasets\n",
    "        sensorData_start, sensorData_end = sensorData.index[0], sensorData.index[-1]\n",
    "        dataframe_start, dataframe_end = max(sensorData_start, intersection_start), min(sensorData_end, intersection_end)      \n",
    "        \n",
    "        if(dataframe_start > dataframe_end):\n",
    "            print(sensorID, ': ', 'START >> END')\n",
    "            continue\n",
    "            \n",
    "        # creating empty timeseries\n",
    "        df_timeseries = pd.DataFrame()\n",
    "        df_timeseries['datetime'] = pd.date_range(dataframe_start, dataframe_end, freq=\"1h\")\n",
    "        df_timeseries.set_index(['datetime'], inplace = True)\n",
    "        \n",
    "        # calculating the average over one hour of SPL\n",
    "        sensorData['dbas'] = sensorData['sum'] / sensorData['count']\n",
    "        \n",
    "        # adding sensor data to the empty dataframe\n",
    "        df_timeseries['dbas'] = sensorData['dbas'][dataframe_start:dataframe_end]\n",
    "                \n",
    "        \n",
    "        \n",
    "        \n",
    "        \n",
    "        "
   ]
  },
  {
   "cell_type": "code",
   "execution_count": 117,
   "metadata": {},
   "outputs": [],
   "source": [
    "distributions = {}\n",
    "\n",
    "f = open(metadata_file)\n",
    "for line in f:\n",
    "    \n",
    "    # reading sensor metadata\n",
    "    sensorID, lat, lon = line.split(' ')\n",
    "    lat = float(lat)\n",
    "    lon = float(lon)\n",
    "    \n",
    "    if sensorID in manhattan_sensors['sensorID'].unique():\n",
    "        \n",
    "        current_location = manhattan_sensors[manhattan_sensors['sensorID'] == sensorID]['LocationID'].values[0]\n",
    "     \n",
    "        sensorData = pd.read_pickle(datapath + sensorID + '.pkl')\n",
    "        \n",
    "        sensorData['dbas'] = sensorData['sum'] / sensorData['count']\n",
    "        sensorData.dropna(subset=['dbas'], inplace=True)\n",
    "        sensorData['dbas'] = sensorData['dbas'].astype(int)\n",
    "        \n",
    "        if current_location not in distributions:\n",
    "            distributions[current_location] = {}\n",
    "        \n",
    "        distributions[current_location][sensorID] = sensorData[['dbas']]"
   ]
  },
  {
   "cell_type": "code",
   "execution_count": 118,
   "metadata": {
    "scrolled": false
   },
   "outputs": [
    {
     "name": "stdout",
     "output_type": "stream",
     "text": [
      "Location  113  distribution: \n",
      "                dbas\n",
      "count  106883.000000\n",
      "mean       63.822993\n",
      "std         4.695326\n",
      "min        50.000000\n",
      "25%        61.000000\n",
      "50%        63.000000\n",
      "75%        67.000000\n",
      "max        92.000000\n",
      "-----------------------------------------\n",
      "Location  114  distribution: \n",
      "               dbas\n",
      "count  55781.000000\n",
      "mean      64.608343\n",
      "std        5.804717\n",
      "min       52.000000\n",
      "25%       61.000000\n",
      "50%       64.000000\n",
      "75%       68.000000\n",
      "max      106.000000\n",
      "-----------------------------------------\n",
      "Location  79  distribution: \n",
      "               dbas\n",
      "count  10439.000000\n",
      "mean      66.926142\n",
      "std        6.393961\n",
      "min       54.000000\n",
      "25%       61.000000\n",
      "50%       66.000000\n",
      "75%       72.000000\n",
      "max       92.000000\n",
      "-----------------------------------------\n",
      "Location  234  distribution: \n",
      "              dbas\n",
      "count  7211.000000\n",
      "mean     66.810151\n",
      "std       3.463803\n",
      "min      53.000000\n",
      "25%      64.000000\n",
      "50%      67.000000\n",
      "75%      69.000000\n",
      "max      87.000000\n",
      "-----------------------------------------\n",
      "Location  236  distribution: \n",
      "               dbas\n",
      "count  13811.000000\n",
      "mean      64.749765\n",
      "std        4.080820\n",
      "min       51.000000\n",
      "25%       62.000000\n",
      "50%       65.000000\n",
      "75%       68.000000\n",
      "max       87.000000\n",
      "-----------------------------------------\n",
      "Location  162  distribution: \n",
      "              dbas\n",
      "count  2637.000000\n",
      "mean     71.351915\n",
      "std       2.539776\n",
      "min      61.000000\n",
      "25%      70.000000\n",
      "50%      71.000000\n",
      "75%      73.000000\n",
      "max      80.000000\n",
      "-----------------------------------------\n",
      "Location  100  distribution: \n",
      "              dbas\n",
      "count  1528.000000\n",
      "mean     68.278141\n",
      "std       3.259241\n",
      "min      40.000000\n",
      "25%      66.000000\n",
      "50%      69.000000\n",
      "75%      70.000000\n",
      "max      91.000000\n",
      "-----------------------------------------\n",
      "Location  161  distribution: \n",
      "              dbas\n",
      "count  9284.000000\n",
      "mean     72.164153\n",
      "std       3.652700\n",
      "min      62.000000\n",
      "25%      70.000000\n",
      "50%      72.000000\n",
      "75%      75.000000\n",
      "max      89.000000\n",
      "-----------------------------------------\n",
      "Location  233  distribution: \n",
      "              dbas\n",
      "count  5061.000000\n",
      "mean     70.917408\n",
      "std       3.217955\n",
      "min      60.000000\n",
      "25%      69.000000\n",
      "50%      71.000000\n",
      "75%      73.000000\n",
      "max      85.000000\n",
      "-----------------------------------------\n",
      "Location  144  distribution: \n",
      "              dbas\n",
      "count  6355.000000\n",
      "mean     65.107474\n",
      "std       2.237813\n",
      "min      58.000000\n",
      "25%      64.000000\n",
      "50%      65.000000\n",
      "75%      66.000000\n",
      "max      80.000000\n",
      "-----------------------------------------\n",
      "Location  42  distribution: \n",
      "              dbas\n",
      "count  2626.000000\n",
      "mean     62.914318\n",
      "std       3.724192\n",
      "min      53.000000\n",
      "25%      60.000000\n",
      "50%      64.000000\n",
      "75%      66.000000\n",
      "max      79.000000\n",
      "-----------------------------------------\n"
     ]
    },
    {
     "data": {
      "image/png": "[encoded data removed]",
      "text/plain": [
       "<matplotlib.figure.Figure at 0x7fdf98a9d978>"
      ]
     },
     "metadata": {},
     "output_type": "display_data"
    },
    {
     "data": {
      "image/png": "[encoded data removed]",
      "text/plain": [
       "<matplotlib.figure.Figure at 0x7fdf98afa668>"
      ]
     },
     "metadata": {},
     "output_type": "display_data"
    },
    {
     "data": {
      "image/png": "[encoded data removed]",
      "text/plain": [
       "<matplotlib.figure.Figure at 0x7fdf98cdff28>"
      ]
     },
     "metadata": {},
     "output_type": "display_data"
    },
    {
     "data": {
      "image/png": "[encoded data removed]",
      "text/plain": [
       "<matplotlib.figure.Figure at 0x7fdf98afa898>"
      ]
     },
     "metadata": {},
     "output_type": "display_data"
    },
    {
     "data": {
      "image/png": "[encoded data removed]",
      "text/plain": [
       "<matplotlib.figure.Figure at 0x7fdf989435f8>"
      ]
     },
     "metadata": {},
     "output_type": "display_data"
    },
    {
     "data": {
      "image/png": "[encoded data removed]",
      "text/plain": [
       "<matplotlib.figure.Figure at 0x7fdf9899d048>"
      ]
     },
     "metadata": {},
     "output_type": "display_data"
    },
    {
     "data": {
      "image/png": "[encoded data removed]",
      "text/plain": [
       "<matplotlib.figure.Figure at 0x7fdf98d34908>"
      ]
     },
     "metadata": {},
     "output_type": "display_data"
    },
    {
     "data": {
      "image/png": "[encoded data removed]",
      "text/plain": [
       "<matplotlib.figure.Figure at 0x7fdf9897af98>"
      ]
     },
     "metadata": {},
     "output_type": "display_data"
    },
    {
     "data": {
      "image/png": "[encoded data removed]",
      "text/plain": [
       "<matplotlib.figure.Figure at 0x7fdf98843438>"
      ]
     },
     "metadata": {},
     "output_type": "display_data"
    },
    {
     "data": {
      "image/png": "[encoded data removed]",
      "text/plain": [
       "<matplotlib.figure.Figure at 0x7fdf98e06b38>"
      ]
     },
     "metadata": {},
     "output_type": "display_data"
    },
    {
     "data": {
      "image/png": "[encoded data removed]",
      "text/plain": [
       "<matplotlib.figure.Figure at 0x7fdf9c5fdc88>"
      ]
     },
     "metadata": {},
     "output_type": "display_data"
    }
   ],
   "source": [
    "for location in distributions:\n",
    "    \n",
    "    print('Location ', location, ' distribution: ')\n",
    "    currentDF = pd.DataFrame()\n",
    "    \n",
    "    for sensorID in distributions[location]:\n",
    "        \n",
    "        currentDF = currentDF.append(distributions[location][sensorID])\n",
    "        min_dbas = currentDF['dbas'].min()\n",
    "        max_dbas = currentDF['dbas'].max()\n",
    "        nbins = max_dbas - min_dbas\n",
    "        \n",
    "    plot = currentDF.hist(bins=nbins)\n",
    "    print(currentDF.describe())\n",
    "    print('-----------------------------------------')"
   ]
  },
  {
   "cell_type": "code",
   "execution_count": null,
   "metadata": {},
   "outputs": [],
   "source": []
  },
  {
   "cell_type": "code",
   "execution_count": null,
   "metadata": {},
   "outputs": [],
   "source": []
  },
  {
   "cell_type": "code",
   "execution_count": null,
   "metadata": {},
   "outputs": [],
   "source": []
  },
  {
   "cell_type": "markdown",
   "metadata": {},
   "source": [
    "## Helper Functions"
   ]
  },
  {
   "cell_type": "code",
   "execution_count": null,
   "metadata": {},
   "outputs": [],
   "source": [
    "def spatialJoin(sensorLat, sensorLon, sensorID, geoDataFrame):\n",
    "    \n",
    "    d = 300 # meters\n",
    "    n_points = 20\n",
    "    angles = np.linspace(0, 360, n_points)\n",
    "    center = shapely.geometry.Point(sensorLon, sensorLat)\n",
    "    polygon = Polygon(geog.propagate(center, angles, d))\n",
    "    \n",
    "    sinpoly = gpd.GeoDataFrame(crs={'init': 'epsg:4326'})\n",
    "    sinpoly = sinpoly.append({'geometry': polygon, 'sensorID':sensorID}, ignore_index=True) \n",
    "    sinpoly = sinpoly.to_crs({'init':'epsg:3857'})\n",
    "    \n",
    "    dataframe = gpd.tools.sjoin(geoDataFrame, sinpoly, how='inner', op=\"within\")\n",
    "        \n",
    "    return dataframe"
   ]
  }
 ],
 "metadata": {
  "kernelspec": {
   "display_name": "Python 3",
   "language": "python",
   "name": "python3"
  },
  "language_info": {
   "codemirror_mode": {
    "name": "ipython",
    "version": 3
   },
   "file_extension": ".py",
   "mimetype": "text/x-python",
   "name": "python",
   "nbconvert_exporter": "python",
   "pygments_lexer": "ipython3",
   "version": "3.6.8"
  }
 },
 "nbformat": 4,
 "nbformat_minor": 2
}
