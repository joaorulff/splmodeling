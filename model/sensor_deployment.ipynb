{
 "cells": [
  {
   "cell_type": "markdown",
   "metadata": {},
   "source": [
    "## Importing Libraries"
   ]
  },
  {
   "cell_type": "code",
   "execution_count": null,
   "metadata": {},
   "outputs": [],
   "source": [
    "import pandas as pd\n",
    "import numpy as np\n",
    "import geopandas as gpd\n",
    "import geopy.distance\n",
    "import matplotlib.pyplot as plt\n",
    "from shapely.geometry import Point\n",
    "\n",
    "from sklearn.model_selection import train_test_split\n",
    "from sklearn.ensemble import RandomForestRegressor\n",
    "from sklearn.ensemble import RandomForestClassifier\n",
    "from sklearn.metrics import mean_squared_error, r2_score\n",
    "from sklearn.preprocessing import MinMaxScaler\n",
    "from sklearn.model_selection import StratifiedShuffleSplit\n",
    "from sklearn.model_selection import RandomizedSearchCV\n",
    "from sklearn.model_selection import KFold\n",
    "\n",
    "\n",
    "from scipy import stats\n",
    "from sklearn import metrics\n",
    "import folium\n",
    "\n",
    "import math\n",
    "\n",
    "from descartes import PolygonPatch\n",
    "import altair as alt\n",
    "\n",
    "from pprint import pprint\n",
    "\n",
    "# for the notebook only (not for JupyterLab) run this command once per session\n",
    "alt.renderers.enable('notebook')\n",
    "\n",
    "import warnings\n",
    "warnings.filterwarnings('ignore')"
   ]
  },
  {
   "cell_type": "code",
   "execution_count": null,
   "metadata": {},
   "outputs": [],
   "source": [
    "### Consts\n",
    "datapath = '../rawdata/sensors/'\n",
    "filename = datapath + 'nodes.txt'"
   ]
  },
  {
   "cell_type": "code",
   "execution_count": null,
   "metadata": {},
   "outputs": [],
   "source": [
    "areas_coords = [\n",
    "    (40.748203, -74.002728),\n",
    "    (40.744006, -73.990839),\n",
    "    (40.739258, -73.978691),\n",
    "    (40.730250, -73.981419),\n",
    "    (40.730999, -73.997317),\n",
    "    (40.736302, -74.003391),\n",
    "    (40.727475, -74.005537),\n",
    "    (40.722948, -73.995838),\n",
    "    (40.719485, -73.984144),\n",
    "    (40.718380, -74.006466),\n",
    "    (40.710166, -74.008929),\n",
    "    (40.714867, -73.993454),\n",
    "    (40.758490, -73.996376),\n",
    "    (40.754586, -73.985882),\n",
    "    (40.750930, -73.976355),\n",
    "    (40.760797, -73.967662),\n",
    "    (40.762536, -73.977212),\n",
    "    (40.765541, -73.986568)]"
   ]
  },
  {
   "cell_type": "code",
   "execution_count": null,
   "metadata": {},
   "outputs": [],
   "source": [
    "map_osm = folium.Map(location=[40.742, -73.956], zoom_start=12, tiles=\"cartodbpositron\")\n",
    "\n",
    "plotCircleRegions(areas_coords, map_osm)\n",
    "plotMapPoints(coords, map_osm)\n",
    "\n",
    "display(map_osm)\n"
   ]
  },
  {
   "cell_type": "code",
   "execution_count": null,
   "metadata": {},
   "outputs": [],
   "source": [
    "\n",
    "\n",
    "\n",
    "f = open(filename)\n",
    "sensors = {}\n",
    "coords=[[]]\n",
    "for line in f:\n",
    "    s, lat, lon = line.split(' ')\n",
    "    \n",
    "    # collecting sensor metadata\n",
    "    sensors[s] = {}\n",
    "    sensors[s]['lat'] = float(lat)\n",
    "    sensors[s]['lon'] = float(lon) \n",
    "    \n",
    "    \n",
    "    for circle in areas_coords:\n",
    "        isWithin = pointWithinCircle([sensors[s]['lat'], sensors[s]['lon']], [circle[0], circle[1], 300])\n",
    "        \n",
    "        if(isWithin):\n",
    "            coords[0].append(Point(sensors[s]['lat'], sensors[s]['lon']))\n",
    "\n",
    "        "
   ]
  },
  {
   "cell_type": "markdown",
   "metadata": {},
   "source": [
    "## Helper Functions"
   ]
  },
  {
   "cell_type": "markdown",
   "metadata": {},
   "source": [
    "### Geospatial Functions"
   ]
  },
  {
   "cell_type": "code",
   "execution_count": null,
   "metadata": {},
   "outputs": [],
   "source": [
    "nyc_boundaries = gpd.read_file('../data/nyc_boundaries/NYC_Boundaries.geojson')\n",
    "\n",
    "def pointWithinCircle(point, circle):\n",
    "    ## Return if a given point is within a circle\n",
    "    c = (circle[0], circle[1])\n",
    "    r = circle[2]\n",
    "    dist = geopy.distance.distance(c, point).meters\n",
    "    if dist <= r:\n",
    "        return True\n",
    "\n",
    "    return False"
   ]
  },
  {
   "cell_type": "markdown",
   "metadata": {},
   "source": [
    "### Visualization Functions"
   ]
  },
  {
   "cell_type": "code",
   "execution_count": null,
   "metadata": {},
   "outputs": [],
   "source": [
    "def plotMapPoints(mapCoordGroups, map_osm):\n",
    "    \n",
    "    for group in mapCoordGroups:\n",
    "        for coord in group:\n",
    "            folium.CircleMarker(\n",
    "                location=[coord.x, coord.y],\n",
    "                radius=5,\n",
    "                fill=True,\n",
    "                fill_opacity=0.5,\n",
    "                fill_color=\"red\",\n",
    "                color=\"black\").add_to(map_osm)\n",
    "    \n",
    "def plotCircleRegions(circleRegions, map_osm): \n",
    "    \n",
    "    for circle in circleRegions: \n",
    "        \n",
    "        circle_str = '('+  str(circle[0]) + ' , ' + str(circle[1]) + ')'\n",
    "        \n",
    "        folium.Circle(\n",
    "            radius=300,\n",
    "            location=[circle[0], circle[1]],\n",
    "            popup='The Waterfront',\n",
    "            color='crimson',\n",
    "            fill=False,\n",
    "            tooltip=circle_str).add_to(map_osm)"
   ]
  }
 ],
 "metadata": {
  "kernelspec": {
   "display_name": "Python 3",
   "language": "python",
   "name": "python3"
  },
  "language_info": {
   "codemirror_mode": {
    "name": "ipython",
    "version": 3
   },
   "file_extension": ".py",
   "mimetype": "text/x-python",
   "name": "python",
   "nbconvert_exporter": "python",
   "pygments_lexer": "ipython3",
   "version": "3.6.5"
  }
 },
 "nbformat": 4,
 "nbformat_minor": 2
}
