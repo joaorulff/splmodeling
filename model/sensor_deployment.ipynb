{
 "cells": [
  {
   "cell_type": "markdown",
   "metadata": {},
   "source": [
    "## Importing Libraries"
   ]
  },
  {
   "cell_type": "code",
   "execution_count": null,
   "metadata": {},
   "outputs": [],
   "source": [
    "import pandas as pd\n",
    "import numpy as np\n",
    "import geopandas as gpd\n",
    "import geopy.distance\n",
    "import matplotlib.pyplot as plt\n",
    "from shapely.geometry import Point\n",
    "import shapely\n",
    "\n",
    "from sklearn.model_selection import train_test_split\n",
    "from sklearn.ensemble import RandomForestRegressor\n",
    "from sklearn.ensemble import RandomForestClassifier\n",
    "from sklearn.metrics import mean_squared_error, r2_score\n",
    "from sklearn.preprocessing import MinMaxScaler\n",
    "from sklearn.model_selection import StratifiedShuffleSplit\n",
    "from sklearn.model_selection import RandomizedSearchCV\n",
    "from sklearn.model_selection import KFold\n",
    "\n",
    "import matplotlib as mpl\n",
    "\n",
    "from scipy import stats\n",
    "from sklearn import metrics\n",
    "import folium\n",
    "\n",
    "import math\n",
    "\n",
    "from descartes import PolygonPatch\n",
    "import altair as alt\n",
    "\n",
    "from pprint import pprint\n",
    "from IPython.display import clear_output\n",
    "\n",
    "# for the notebook only (not for JupyterLab) run this command once per session\n",
    "alt.renderers.enable('notebook')\n",
    "\n",
    "import warnings\n",
    "warnings.filterwarnings('ignore')"
   ]
  },
  {
   "cell_type": "markdown",
   "metadata": {},
   "source": [
    "## Data Paths"
   ]
  },
  {
   "cell_type": "code",
   "execution_count": null,
   "metadata": {},
   "outputs": [],
   "source": [
    "### Consts\n",
    "datapath = '../rawdata/sensors/'\n",
    "filename = datapath + 'nodes.txt'\n",
    "\n",
    "## taxi regions\n",
    "taxi_regions = '../assets/taxi_zones.zip'"
   ]
  },
  {
   "cell_type": "markdown",
   "metadata": {},
   "source": [
    "## Reading taxi regions"
   ]
  },
  {
   "cell_type": "code",
   "execution_count": null,
   "metadata": {},
   "outputs": [],
   "source": [
    "taxi_regions_geodf = gpd.read_file('zip://../assets/taxi_zones.zip')\n",
    "taxi_regions_geodf = taxi_regions_geodf[taxi_regions_geodf['borough'] == 'Manhattan']\n",
    "taxi_regions_geodf = taxi_regions_geodf.to_crs({'init':'epsg:3857'})"
   ]
  },
  {
   "cell_type": "code",
   "execution_count": null,
   "metadata": {},
   "outputs": [],
   "source": [
    "map_osm = folium.Map(location=[40.742, -73.956], zoom_start=12, tiles=\"cartodbpositron\")\n",
    "folium.GeoJson(taxi_regions_geodf).add_to(map_osm)\n",
    "display(map_osm)"
   ]
  },
  {
   "cell_type": "markdown",
   "metadata": {},
   "source": [
    "## Join Sensor Position x Taxi Regions"
   ]
  },
  {
   "cell_type": "code",
   "execution_count": null,
   "metadata": {},
   "outputs": [],
   "source": [
    "f = open(filename)\n",
    "\n",
    "sensors_geodf = gpd.GeoDataFrame(crs={'init': 'epsg:4326'}) \n",
    "\n",
    "for line in f:\n",
    "    s, lat, lon = line.split(' ')\n",
    "    \n",
    "    lat = float(lat)\n",
    "    lon = float(lon)\n",
    "    \n",
    "    sensor_point = shapely.geometry.Point(lon, lat)\n",
    "    sensors_geodf = sensors_geodf.append({'geometry': sensor_point, 'sensorID':s}, ignore_index=True)        \n",
    "    \n",
    "sensors_geodf = sensors_geodf.to_crs({'init':'epsg:3857'})\n",
    "\n",
    "intersection = gpd.tools.sjoin(sensors_geodf,taxi_regions_geodf, how='inner', op=\"within\")"
   ]
  },
  {
   "cell_type": "markdown",
   "metadata": {},
   "source": [
    "## Loading datasets"
   ]
  },
  {
   "cell_type": "code",
   "execution_count": null,
   "metadata": {},
   "outputs": [],
   "source": [
    "## loading taxi\n",
    "taxi = pd.read_pickle('../data/taxi/taxi.pkl')\n",
    "taxi = taxi['2018-01-01':'2018-05-01']"
   ]
  },
  {
   "cell_type": "markdown",
   "metadata": {},
   "source": [
    "## Calculating Correlations"
   ]
  },
  {
   "cell_type": "code",
   "execution_count": null,
   "metadata": {},
   "outputs": [],
   "source": [
    "## training region\n",
    "training_region = 79\n",
    "\n",
    "taxi_regions = taxi_regions_geodf['LocationID'].values\n",
    "\n",
    "correlations_dataframe = pd.DataFrame()\n",
    "\n",
    "nOfRegions = taxi_regions.shape[0]\n",
    "\n",
    "for region in taxi_regions:\n",
    "    \n",
    "    print(nOfRegions)\n",
    "    \n",
    "    ## filtering\n",
    "    training_region_df = taxi[taxi['location'] == training_region]\n",
    "    testing_region_df = taxi[taxi['location'] == region]\n",
    "    \n",
    "    ## resampling \n",
    "    training_region_df = training_region_df.resample('H').agg({'location': 'count'})\n",
    "    testing_region_df = testing_region_df.resample('H').agg({'location': 'count'})\n",
    "    \n",
    "\n",
    "    training_region_df['testing'] = testing_region_df\n",
    "    correlation = training_region_df.corr()\n",
    "    correlation = correlation.iloc[0]['testing']\n",
    "    \n",
    "    correlations_dataframe = correlations_dataframe.append({\n",
    "        'training_region': training_region,\n",
    "        'testing_region':region,\n",
    "        'correlation':correlation\n",
    "    }, ignore_index=True)\n",
    "    \n",
    "    nOfRegions = nOfRegions - 1"
   ]
  },
  {
   "cell_type": "code",
   "execution_count": null,
   "metadata": {},
   "outputs": [],
   "source": [
    "correlations_dataframe"
   ]
  },
  {
   "cell_type": "code",
   "execution_count": null,
   "metadata": {},
   "outputs": [],
   "source": [
    "correlations_dataframe.sort_values(by='correlation', ascending=True)\n",
    "\n",
    "norm = mpl.colors.Normalize(vmin=-0.067979,vmax=0.963370)"
   ]
  },
  {
   "cell_type": "code",
   "execution_count": null,
   "metadata": {},
   "outputs": [],
   "source": [
    "## testing\n",
    "taxi_region = 79\n",
    "\n",
    "sensors_in_region = dataframe[dataframe['LocationID'] == taxi_region]['sensorID']\n",
    "\n",
    "testing_map = folium.Map(location=[40.742, -73.956], zoom_start=12, tiles=\"cartodbpositron\")\n",
    "\n",
    "folium.GeoJson(taxi_regions_geodf[taxi_regions_geodf['LocationID'] == taxi_region]).add_to(testing_map)\n",
    "sensors_points = sensors_geodf[sensors_geodf['sensorID'].isin(sensors_in_region.values)]\n",
    "\n",
    "sensors_points = sensors_points.to_crs({'init':'epsg:4326'})\n",
    "\n",
    "plotMapPoints(sensors_points.iloc[0]['geometry'],testing_map)\n",
    "plotMapPoints(sensors_points.iloc[1]['geometry'],testing_map)\n",
    "plotMapPoints(sensors_points.iloc[2]['geometry'],testing_map)\n",
    "\n",
    "display(testing_map)"
   ]
  },
  {
   "cell_type": "markdown",
   "metadata": {},
   "source": [
    "## Helper Functions"
   ]
  },
  {
   "cell_type": "markdown",
   "metadata": {},
   "source": [
    "### Geospatial Functions"
   ]
  },
  {
   "cell_type": "code",
   "execution_count": null,
   "metadata": {},
   "outputs": [],
   "source": [
    "nyc_boundaries = gpd.read_file('../data/nyc_boundaries/NYC_Boundaries.geojson')\n",
    "\n",
    "def pointWithinCircle(point, circle):\n",
    "    ## Return if a given point is within a circle\n",
    "    c = (circle[0], circle[1])\n",
    "    r = circle[2]\n",
    "    dist = geopy.distance.distance(c, point).meters\n",
    "    if dist <= r:\n",
    "        return True\n",
    "\n",
    "    return False"
   ]
  },
  {
   "cell_type": "markdown",
   "metadata": {},
   "source": [
    "### Visualization Functions"
   ]
  },
  {
   "cell_type": "code",
   "execution_count": null,
   "metadata": {},
   "outputs": [],
   "source": [
    "def plotMapPoints(mapCoordGroups, map_osm):\n",
    "    \n",
    "#     for group in mapCoordGroups:\n",
    "#         for coord in group:    \n",
    "\n",
    "    folium.CircleMarker(\n",
    "        location=[mapCoordGroups.y, mapCoordGroups.x],\n",
    "        radius=5,\n",
    "        fill=True,\n",
    "        fill_opacity=0.5,\n",
    "        fill_color=\"red\",\n",
    "        color=\"black\").add_to(map_osm)\n",
    "    \n",
    "def plotCircleRegions(circleRegions, map_osm): \n",
    "    \n",
    "    for circle in circleRegions: \n",
    "        \n",
    "        circle_str = '('+  str(circle[0]) + ' , ' + str(circle[1]) + ')'\n",
    "        \n",
    "        folium.Circle(\n",
    "            radius=5,\n",
    "            location=[circle[0], circle[1]],\n",
    "            popup='The Waterfront',\n",
    "            color='crimson',\n",
    "            fill=False,\n",
    "            tooltip=circle_str).add_to(map_osm)"
   ]
  },
  {
   "cell_type": "code",
   "execution_count": null,
   "metadata": {},
   "outputs": [],
   "source": [
    "# areas_coords = [\n",
    "#     (40.748203, -74.002728),\n",
    "#     (40.744006, -73.990839),\n",
    "#     (40.739258, -73.978691),\n",
    "#     (40.730250, -73.981419),\n",
    "#     (40.730999, -73.997317),\n",
    "#     (40.736302, -74.003391),\n",
    "#     (40.727475, -74.005537),\n",
    "#     (40.722948, -73.995838),\n",
    "#     (40.719485, -73.984144),\n",
    "#     (40.718380, -74.006466),\n",
    "#     (40.710166, -74.008929),\n",
    "#     (40.714867, -73.993454),\n",
    "#     (40.758490, -73.996376),\n",
    "#     (40.754586, -73.985882),\n",
    "#     (40.750930, -73.976355),\n",
    "#     (40.760797, -73.967662),\n",
    "#     (40.762536, -73.977212),\n",
    "#     (40.765541, -73.986568)]"
   ]
  }
 ],
 "metadata": {
  "kernelspec": {
   "display_name": "Python 3",
   "language": "python",
   "name": "python3"
  },
  "language_info": {
   "codemirror_mode": {
    "name": "ipython",
    "version": 3
   },
   "file_extension": ".py",
   "mimetype": "text/x-python",
   "name": "python",
   "nbconvert_exporter": "python",
   "pygments_lexer": "ipython3",
   "version": "3.6.8"
  }
 },
 "nbformat": 4,
 "nbformat_minor": 2
}
